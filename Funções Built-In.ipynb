{
 "cells": [
  {
   "cell_type": "markdown",
   "id": "social-tunnel",
   "metadata": {},
   "source": [
    "# Funções Buil-In"
   ]
  },
  {
   "cell_type": "markdown",
   "id": "mighty-survey",
   "metadata": {},
   "source": [
    "### Função Map"
   ]
  },
  {
   "cell_type": "markdown",
   "id": "located-morgan",
   "metadata": {},
   "source": [
    "Map recebe 2 argumentos: map(função,sequência)\n",
    "Retorna a sequencia com a função aplicada em todos os elementos"
   ]
  },
  {
   "cell_type": "code",
   "execution_count": 7,
   "id": "leading-edition",
   "metadata": {},
   "outputs": [],
   "source": [
    "#Criando duas funções\n",
    "\n",
    "#Recebe uma temperatura em celsius e retorna a temperatura em fahrenheit\n",
    "def fahrenheit(T):\n",
    "    return ((float(9)/5)*T + 32)\n",
    "\n",
    "#Recebe uma temperatura em fahrenheit retorna a temperatura em celsius\n",
    "def celsius(T):\n",
    "    return ((float(5.0)/9)*(T - 32))\n"
   ]
  },
  {
   "cell_type": "code",
   "execution_count": 16,
   "id": "powerful-romantic",
   "metadata": {},
   "outputs": [],
   "source": [
    "#Criando uma lista\n",
    "temperaturas = [0,22.5,40,100]"
   ]
  },
  {
   "cell_type": "code",
   "execution_count": 9,
   "id": "signed-fishing",
   "metadata": {},
   "outputs": [
    {
     "data": {
      "text/plain": [
       "<map at 0x7f0fc45a9a00>"
      ]
     },
     "execution_count": 9,
     "metadata": {},
     "output_type": "execute_result"
    }
   ],
   "source": [
    "#Aplicando a função a cada elemento da lista de temperaturas.\n",
    "#Em python 3 a função map retorna um iterador\n",
    "map(fahrenheit,temperaturas)"
   ]
  },
  {
   "cell_type": "code",
   "execution_count": 10,
   "id": "colonial-hudson",
   "metadata": {},
   "outputs": [
    {
     "data": {
      "text/plain": [
       "[32.0, 72.5, 104.0, 212.0]"
      ]
     },
     "execution_count": 10,
     "metadata": {},
     "output_type": "execute_result"
    }
   ],
   "source": [
    "#Função Map retornando a lista de temperaturas convertidas em Fahrenheit\n",
    "list(map(fahrenheit,temperaturas))"
   ]
  },
  {
   "cell_type": "code",
   "execution_count": 11,
   "id": "level-vacation",
   "metadata": {},
   "outputs": [
    {
     "name": "stdout",
     "output_type": "stream",
     "text": [
      "32.0\n",
      "72.5\n",
      "104.0\n",
      "212.0\n"
     ]
    }
   ],
   "source": [
    "#Usando um loop para imprimir o resultado da função map\n",
    "for temp in map(fahrenheit,temperaturas):\n",
    "    print(temp)"
   ]
  },
  {
   "cell_type": "code",
   "execution_count": 8,
   "id": "massive-david",
   "metadata": {},
   "outputs": [
    {
     "name": "stdout",
     "output_type": "stream",
     "text": [
      "-17.77777777777778\n",
      "-5.277777777777778\n",
      "4.444444444444445\n",
      "37.77777777777778\n"
     ]
    }
   ],
   "source": [
    "for temp in map(celsius,temperaturas):\n",
    "    print(temp)"
   ]
  },
  {
   "cell_type": "code",
   "execution_count": 18,
   "id": "popular-training",
   "metadata": {},
   "outputs": [
    {
     "data": {
      "text/plain": [
       "<map at 0x7f0fc45a9100>"
      ]
     },
     "execution_count": 18,
     "metadata": {},
     "output_type": "execute_result"
    }
   ],
   "source": [
    "#Usando lambda\n",
    "map(lambda x:(float(9)/5)*x + 32,temperaturas)"
   ]
  },
  {
   "cell_type": "code",
   "execution_count": 19,
   "id": "hollywood-medline",
   "metadata": {},
   "outputs": [
    {
     "data": {
      "text/plain": [
       "[32.0, 72.5, 104.0, 212.0]"
      ]
     },
     "execution_count": 19,
     "metadata": {},
     "output_type": "execute_result"
    }
   ],
   "source": [
    "list(map(lambda x:(float(9)/5)*x + 32,temperaturas))"
   ]
  },
  {
   "cell_type": "code",
   "execution_count": 21,
   "id": "stable-leone",
   "metadata": {},
   "outputs": [],
   "source": [
    "#Somando elementos de 2 listas\n",
    "a= [1,2,3,4]\n",
    "b= [5,6,7,8]"
   ]
  },
  {
   "cell_type": "code",
   "execution_count": 22,
   "id": "incredible-tuner",
   "metadata": {},
   "outputs": [
    {
     "data": {
      "text/plain": [
       "[6, 8, 10, 12]"
      ]
     },
     "execution_count": 22,
     "metadata": {},
     "output_type": "execute_result"
    }
   ],
   "source": [
    "list(map(lambda x,y:x+y,a,b))"
   ]
  },
  {
   "cell_type": "code",
   "execution_count": 23,
   "id": "indian-melbourne",
   "metadata": {},
   "outputs": [],
   "source": [
    "#Somando os elementos de 3 listas\n",
    "a= [1,2,3,4]\n",
    "b= [5,6,7,8]\n",
    "c= [9,10,11,12]"
   ]
  },
  {
   "cell_type": "code",
   "execution_count": 24,
   "id": "historic-economics",
   "metadata": {},
   "outputs": [
    {
     "data": {
      "text/plain": [
       "[15, 18, 21, 24]"
      ]
     },
     "execution_count": 24,
     "metadata": {},
     "output_type": "execute_result"
    }
   ],
   "source": [
    "list(map(lambda x,y,z:x+y+z,a,b,c))"
   ]
  },
  {
   "cell_type": "markdown",
   "id": "controlled-capability",
   "metadata": {},
   "source": [
    "### Função Reduce"
   ]
  },
  {
   "cell_type": "markdown",
   "id": "anticipated-murder",
   "metadata": {},
   "source": [
    "Ao contrário da função map, aplica a função aos elementos da sequencia até que se chegue em um unico valor.\n",
    "Hadoop e SPark"
   ]
  },
  {
   "cell_type": "code",
   "execution_count": 25,
   "id": "presidential-infrared",
   "metadata": {},
   "outputs": [],
   "source": [
    "# Importando a função do módulo functools\n",
    "from functools import reduce"
   ]
  },
  {
   "cell_type": "code",
   "execution_count": 26,
   "id": "latin-wilson",
   "metadata": {},
   "outputs": [],
   "source": [
    "#Criando uma lista\n",
    "lista = [47,11,42,13]"
   ]
  },
  {
   "cell_type": "code",
   "execution_count": 27,
   "id": "european-advancement",
   "metadata": {},
   "outputs": [],
   "source": [
    "#Função\n",
    "def soma(a,b):\n",
    "    return a+b"
   ]
  },
  {
   "cell_type": "code",
   "execution_count": 28,
   "id": "average-prototype",
   "metadata": {},
   "outputs": [
    {
     "data": {
      "text/plain": [
       "113"
      ]
     },
     "execution_count": 28,
     "metadata": {},
     "output_type": "execute_result"
    }
   ],
   "source": [
    "#Usando reduce com uma função e uma lista. A função vai retornar o valor da soma de todos os valores\n",
    "reduce(soma,lista)"
   ]
  },
  {
   "cell_type": "code",
   "execution_count": 29,
   "id": "romance-little",
   "metadata": {},
   "outputs": [],
   "source": [
    "#Criando uma lista\n",
    "lst = [47,11,42,13]"
   ]
  },
  {
   "cell_type": "code",
   "execution_count": 32,
   "id": "composite-barrel",
   "metadata": {},
   "outputs": [],
   "source": [
    "#Reduce com Lambda\n",
    "val = reduce(lambda x,y:x+y,lst)"
   ]
  },
  {
   "cell_type": "code",
   "execution_count": 33,
   "id": "three-commonwealth",
   "metadata": {},
   "outputs": [
    {
     "name": "stdout",
     "output_type": "stream",
     "text": [
      "113\n"
     ]
    }
   ],
   "source": [
    "print(val)"
   ]
  },
  {
   "cell_type": "code",
   "execution_count": 39,
   "id": "variable-interest",
   "metadata": {},
   "outputs": [],
   "source": [
    "#Podemos atribuir a expressão lambda a uma variavel\n",
    "max_find = lambda a,b: a if(a>b) else b"
   ]
  },
  {
   "cell_type": "code",
   "execution_count": 40,
   "id": "recognized-relations",
   "metadata": {},
   "outputs": [
    {
     "data": {
      "text/plain": [
       "function"
      ]
     },
     "execution_count": 40,
     "metadata": {},
     "output_type": "execute_result"
    }
   ],
   "source": [
    "type(max_find)"
   ]
  },
  {
   "cell_type": "code",
   "execution_count": 41,
   "id": "noticed-cooling",
   "metadata": {},
   "outputs": [
    {
     "data": {
      "text/plain": [
       "47"
      ]
     },
     "execution_count": 41,
     "metadata": {},
     "output_type": "execute_result"
    }
   ],
   "source": [
    "#Reduzindo a lista até o valor maximo,atraves da função criada com a expressão lambda\n",
    "reduce(max_find,lst)"
   ]
  },
  {
   "cell_type": "code",
   "execution_count": 43,
   "id": "quiet-layout",
   "metadata": {},
   "outputs": [],
   "source": [
    "#teste integrado\n",
    "max_find1 = reduce(lambda a,b: a if(a>b) else b,lst)"
   ]
  },
  {
   "cell_type": "code",
   "execution_count": 44,
   "id": "foster-superior",
   "metadata": {},
   "outputs": [
    {
     "name": "stdout",
     "output_type": "stream",
     "text": [
      "47\n"
     ]
    }
   ],
   "source": [
    "print(max_find1)"
   ]
  },
  {
   "cell_type": "markdown",
   "id": "natural-university",
   "metadata": {},
   "source": [
    "### Filter"
   ]
  },
  {
   "cell_type": "markdown",
   "id": "liberal-jimmy",
   "metadata": {},
   "source": [
    "Filtrar todos os elementos de uma sequencia, para o qual a função retorne true"
   ]
  },
  {
   "cell_type": "code",
   "execution_count": 46,
   "id": "advanced-biotechnology",
   "metadata": {},
   "outputs": [],
   "source": [
    "#Criando uma função true e false começam com maiusculo\n",
    "def verificaPar(num):\n",
    "    if num%2 == 0:\n",
    "        return True\n",
    "    else:\n",
    "        return False"
   ]
  },
  {
   "cell_type": "code",
   "execution_count": 47,
   "id": "adolescent-format",
   "metadata": {},
   "outputs": [
    {
     "data": {
      "text/plain": [
       "False"
      ]
     },
     "execution_count": 47,
     "metadata": {},
     "output_type": "execute_result"
    }
   ],
   "source": [
    "#Testando a função\n",
    "verificaPar(35)"
   ]
  },
  {
   "cell_type": "code",
   "execution_count": 48,
   "id": "temporal-setting",
   "metadata": {},
   "outputs": [],
   "source": [
    "lista = [0,1,2,3,4,5,6,7,8,9,10,11,12,13,14,15,16,17,18]"
   ]
  },
  {
   "cell_type": "code",
   "execution_count": 49,
   "id": "positive-honey",
   "metadata": {},
   "outputs": [
    {
     "data": {
      "text/plain": [
       "<filter at 0x7f0fc44d8460>"
      ]
     },
     "execution_count": 49,
     "metadata": {},
     "output_type": "execute_result"
    }
   ],
   "source": [
    "#Aplicando o filter\n",
    "filter(verificaPar,lista)"
   ]
  },
  {
   "cell_type": "code",
   "execution_count": 50,
   "id": "worldwide-lucas",
   "metadata": {},
   "outputs": [
    {
     "data": {
      "text/plain": [
       "[0, 2, 4, 6, 8, 10, 12, 14, 16, 18]"
      ]
     },
     "execution_count": 50,
     "metadata": {},
     "output_type": "execute_result"
    }
   ],
   "source": [
    "list(filter(verificaPar,lista))"
   ]
  },
  {
   "cell_type": "code",
   "execution_count": 51,
   "id": "occasional-cocktail",
   "metadata": {},
   "outputs": [
    {
     "data": {
      "text/plain": [
       "[0, 2, 4, 6, 8, 10, 12, 14, 16, 18]"
      ]
     },
     "execution_count": 51,
     "metadata": {},
     "output_type": "execute_result"
    }
   ],
   "source": [
    "#Utilizando o lambda\n",
    "list(filter(lambda x:x%2==0,lista))"
   ]
  },
  {
   "cell_type": "code",
   "execution_count": 52,
   "id": "technical-christopher",
   "metadata": {},
   "outputs": [
    {
     "data": {
      "text/plain": [
       "[9, 10, 11, 12, 13, 14, 15, 16, 17, 18]"
      ]
     },
     "execution_count": 52,
     "metadata": {},
     "output_type": "execute_result"
    }
   ],
   "source": [
    "list(filter(lambda num:num>8,lista))"
   ]
  },
  {
   "cell_type": "markdown",
   "id": "agricultural-company",
   "metadata": {},
   "source": [
    "### List Comprehension"
   ]
  },
  {
   "cell_type": "markdown",
   "id": "functional-recording",
   "metadata": {},
   "source": [
    "É um método mais rapido e eficiente do que o map()"
   ]
  },
  {
   "cell_type": "code",
   "execution_count": 53,
   "id": "built-brick",
   "metadata": {},
   "outputs": [],
   "source": [
    "#Retornar cada caractere em uma sequencia de caracteres\n",
    "lst = [x for x in 'python']"
   ]
  },
  {
   "cell_type": "code",
   "execution_count": 54,
   "id": "expanded-preservation",
   "metadata": {},
   "outputs": [
    {
     "data": {
      "text/plain": [
       "['p', 'y', 't', 'h', 'o', 'n']"
      ]
     },
     "execution_count": 54,
     "metadata": {},
     "output_type": "execute_result"
    }
   ],
   "source": [
    "#check\n",
    "lst"
   ]
  },
  {
   "cell_type": "code",
   "execution_count": 55,
   "id": "extensive-riverside",
   "metadata": {},
   "outputs": [
    {
     "data": {
      "text/plain": [
       "list"
      ]
     },
     "execution_count": 55,
     "metadata": {},
     "output_type": "execute_result"
    }
   ],
   "source": [
    "type(lst)"
   ]
  },
  {
   "cell_type": "code",
   "execution_count": 56,
   "id": "union-material",
   "metadata": {},
   "outputs": [],
   "source": [
    "#Raiz quadrada em um range de numeros e retornar uma lista\n",
    "lst = [x**2 for x in range(0,11)]"
   ]
  },
  {
   "cell_type": "code",
   "execution_count": 57,
   "id": "narrative-powder",
   "metadata": {},
   "outputs": [
    {
     "data": {
      "text/plain": [
       "[0, 1, 4, 9, 16, 25, 36, 49, 64, 81, 100]"
      ]
     },
     "execution_count": 57,
     "metadata": {},
     "output_type": "execute_result"
    }
   ],
   "source": [
    "lst"
   ]
  },
  {
   "cell_type": "code",
   "execution_count": 62,
   "id": "thrown-collection",
   "metadata": {},
   "outputs": [],
   "source": [
    "#Verificar os números pares em um range de numero\n",
    "lst1 = [x for x in range(0,11) if x%2==0]"
   ]
  },
  {
   "cell_type": "code",
   "execution_count": 63,
   "id": "dress-philip",
   "metadata": {},
   "outputs": [
    {
     "data": {
      "text/plain": [
       "[0, 2, 4, 6, 8, 10]"
      ]
     },
     "execution_count": 63,
     "metadata": {},
     "output_type": "execute_result"
    }
   ],
   "source": [
    "lst1"
   ]
  },
  {
   "cell_type": "code",
   "execution_count": 65,
   "id": "suspected-nursery",
   "metadata": {},
   "outputs": [
    {
     "data": {
      "text/plain": [
       "[32.0, 50.0, 68.18, 94.1]"
      ]
     },
     "execution_count": 65,
     "metadata": {},
     "output_type": "execute_result"
    }
   ],
   "source": [
    "#converter celsius para fahrenheit\n",
    "celsius = [0,10,20.1,34.5]\n",
    "\n",
    "frt = [((float(9)/5)*temp +32) for temp in celsius]\n",
    "\n",
    "frt"
   ]
  },
  {
   "cell_type": "code",
   "execution_count": 66,
   "id": "naughty-clark",
   "metadata": {},
   "outputs": [],
   "source": [
    "#Operações aninhadas -Raiz quadrada da raiz quadrada\n",
    "lst2 = [x**2 for x in [x**2 for x in range(11)]]"
   ]
  },
  {
   "cell_type": "code",
   "execution_count": 67,
   "id": "geological-reggae",
   "metadata": {},
   "outputs": [
    {
     "data": {
      "text/plain": [
       "[0, 1, 16, 81, 256, 625, 1296, 2401, 4096, 6561, 10000]"
      ]
     },
     "execution_count": 67,
     "metadata": {},
     "output_type": "execute_result"
    }
   ],
   "source": [
    "lst2"
   ]
  },
  {
   "cell_type": "markdown",
   "id": "novel-schema",
   "metadata": {},
   "source": [
    "### Função ZIP"
   ]
  },
  {
   "cell_type": "markdown",
   "id": "operational-wilson",
   "metadata": {},
   "source": [
    "Agrega valores de duas sequencias e retorna uma tupla.\n",
    "\n",
    "Retorna o numero de elementos terá o mesmo numero de elementos da sequencia menor."
   ]
  },
  {
   "cell_type": "code",
   "execution_count": 71,
   "id": "independent-chemical",
   "metadata": {},
   "outputs": [],
   "source": [
    "#Criando duas listas\n",
    "x = [1,2,3]\n",
    "y = [4,5,6]"
   ]
  },
  {
   "cell_type": "code",
   "execution_count": 72,
   "id": "ordered-council",
   "metadata": {},
   "outputs": [
    {
     "data": {
      "text/plain": [
       "<zip at 0x7f0fc4502cc0>"
      ]
     },
     "execution_count": 72,
     "metadata": {},
     "output_type": "execute_result"
    }
   ],
   "source": [
    "#unindo usando zip\n",
    "zip(x,y)"
   ]
  },
  {
   "cell_type": "code",
   "execution_count": 74,
   "id": "advance-belly",
   "metadata": {},
   "outputs": [
    {
     "data": {
      "text/plain": [
       "[(1, 4), (2, 5), (3, 6)]"
      ]
     },
     "execution_count": 74,
     "metadata": {},
     "output_type": "execute_result"
    }
   ],
   "source": [
    "#Zip retorna tuplas, neste caso uma lista de tuplas\n",
    "list(zip(x,y))"
   ]
  },
  {
   "cell_type": "code",
   "execution_count": 75,
   "id": "included-withdrawal",
   "metadata": {},
   "outputs": [
    {
     "data": {
      "text/plain": [
       "[('A', 'a'), ('B', 'b'), ('D', 'c')]"
      ]
     },
     "execution_count": 75,
     "metadata": {},
     "output_type": "execute_result"
    }
   ],
   "source": [
    "#Atenção quando as sequencias tiverem tamanhos diferentes de elementos\n",
    "list(zip('ABDC','abc'))"
   ]
  },
  {
   "cell_type": "code",
   "execution_count": null,
   "id": "european-mexico",
   "metadata": {},
   "outputs": [],
   "source": [
    "#Criando outra lista\n",
    "a = [1,2,3,4]\n",
    "b = [5,6,7]"
   ]
  },
  {
   "cell_type": "code",
   "execution_count": 76,
   "id": "raising-international",
   "metadata": {},
   "outputs": [
    {
     "data": {
      "text/plain": [
       "[(1, 5), (2, 6), (3, 7), (4, 8)]"
      ]
     },
     "execution_count": 76,
     "metadata": {},
     "output_type": "execute_result"
    }
   ],
   "source": [
    "list(zip(a,b))"
   ]
  },
  {
   "cell_type": "code",
   "execution_count": 77,
   "id": "approximate-employee",
   "metadata": {},
   "outputs": [],
   "source": [
    "#Criando 2 dicionarios\n",
    "d1 = {'a':1,'b':2}\n",
    "d2 = {'c':3,'d':4}"
   ]
  },
  {
   "cell_type": "code",
   "execution_count": 78,
   "id": "infinite-proceeding",
   "metadata": {},
   "outputs": [
    {
     "data": {
      "text/plain": [
       "[('a', 'c'), ('b', 'd')]"
      ]
     },
     "execution_count": 78,
     "metadata": {},
     "output_type": "execute_result"
    }
   ],
   "source": [
    "#Zip vai unir as chaves\n",
    "list(zip(d1,d2))"
   ]
  },
  {
   "cell_type": "code",
   "execution_count": 81,
   "id": "primary-stevens",
   "metadata": {},
   "outputs": [
    {
     "data": {
      "text/plain": [
       "[(1, 3), (2, 4)]"
      ]
     },
     "execution_count": 81,
     "metadata": {},
     "output_type": "execute_result"
    }
   ],
   "source": [
    "#Zip pode unir os valores(itens)chave de d1 com o valor d2\n",
    "list(zip(d1.values(),d2.values()))"
   ]
  },
  {
   "cell_type": "code",
   "execution_count": 86,
   "id": "exterior-graphics",
   "metadata": {},
   "outputs": [],
   "source": [
    "#Criando uma função para trocar valores entre 2 dicionários\n",
    "def trocaValores(d1,d2):\n",
    "    dicTemp = {}\n",
    "    for d1key,d2val in zip(d1,d2.values()):\n",
    "        dicTemp[d1key] = d2val\n",
    "    return dicTemp"
   ]
  },
  {
   "cell_type": "code",
   "execution_count": 87,
   "id": "domestic-shooting",
   "metadata": {},
   "outputs": [
    {
     "data": {
      "text/plain": [
       "{'a': 3, 'b': 4}"
      ]
     },
     "execution_count": 87,
     "metadata": {},
     "output_type": "execute_result"
    }
   ],
   "source": [
    "trocaValores(d1,d2)"
   ]
  },
  {
   "cell_type": "markdown",
   "id": "comparative-extraction",
   "metadata": {},
   "source": [
    "### Enumerate"
   ]
  },
  {
   "cell_type": "markdown",
   "id": "opening-barbados",
   "metadata": {},
   "source": [
    "Retorna o indice de cada valor em uma sequencia.\n",
    "\n",
    "Retorna uma tupla no formato tupla(indice,valor)"
   ]
  },
  {
   "cell_type": "code",
   "execution_count": 88,
   "id": "proud-american",
   "metadata": {},
   "outputs": [],
   "source": [
    "#Criando uma lista\n",
    "seq = ['a','b','c']"
   ]
  },
  {
   "cell_type": "code",
   "execution_count": 89,
   "id": "proved-sussex",
   "metadata": {},
   "outputs": [
    {
     "data": {
      "text/plain": [
       "<enumerate at 0x7f0fc44db8c0>"
      ]
     },
     "execution_count": 89,
     "metadata": {},
     "output_type": "execute_result"
    }
   ],
   "source": [
    "enumerate(seq)"
   ]
  },
  {
   "cell_type": "code",
   "execution_count": 90,
   "id": "oriental-flight",
   "metadata": {},
   "outputs": [
    {
     "data": {
      "text/plain": [
       "[(0, 'a'), (1, 'b'), (2, 'c')]"
      ]
     },
     "execution_count": 90,
     "metadata": {},
     "output_type": "execute_result"
    }
   ],
   "source": [
    "list(enumerate(seq))"
   ]
  },
  {
   "cell_type": "code",
   "execution_count": 91,
   "id": "employed-advertising",
   "metadata": {},
   "outputs": [
    {
     "name": "stdout",
     "output_type": "stream",
     "text": [
      "0 a\n",
      "1 b\n",
      "2 c\n"
     ]
    }
   ],
   "source": [
    "#Imprimindo valores de uma lista com a função enumerate() e seus respectivos indices\n",
    "for indice,valor in enumerate(seq):\n",
    "    print(indice,valor)"
   ]
  },
  {
   "cell_type": "code",
   "execution_count": 92,
   "id": "acceptable-local",
   "metadata": {},
   "outputs": [
    {
     "name": "stdout",
     "output_type": "stream",
     "text": [
      "a\n",
      "b\n"
     ]
    }
   ],
   "source": [
    "for indice,valor in enumerate(seq):\n",
    "    if indice >= 2:\n",
    "        break\n",
    "    else:\n",
    "        print(valor)"
   ]
  },
  {
   "cell_type": "code",
   "execution_count": 93,
   "id": "material-lightweight",
   "metadata": {},
   "outputs": [],
   "source": [
    "lista = ['Marketing','Tecnologia','Business']"
   ]
  },
  {
   "cell_type": "code",
   "execution_count": 94,
   "id": "graduate-category",
   "metadata": {},
   "outputs": [
    {
     "name": "stdout",
     "output_type": "stream",
     "text": [
      "0 Marketing\n",
      "1 Tecnologia\n",
      "2 Business\n"
     ]
    }
   ],
   "source": [
    "for i,item in enumerate(lista):\n",
    "    print(i,item)"
   ]
  },
  {
   "cell_type": "code",
   "execution_count": 95,
   "id": "vital-green",
   "metadata": {},
   "outputs": [
    {
     "name": "stdout",
     "output_type": "stream",
     "text": [
      "0 l\n",
      "1 i\n",
      "2 s\n",
      "3 t\n",
      "4 a\n"
     ]
    }
   ],
   "source": [
    "for i,item in enumerate('lista'):\n",
    "    print(i,item)"
   ]
  },
  {
   "cell_type": "code",
   "execution_count": 98,
   "id": "statewide-samuel",
   "metadata": {},
   "outputs": [
    {
     "name": "stdout",
     "output_type": "stream",
     "text": [
      "0 0\n",
      "1 1\n",
      "2 2\n",
      "3 3\n",
      "4 4\n"
     ]
    }
   ],
   "source": [
    "for i,item in enumerate(range(5)):\n",
    "    print(i,item)"
   ]
  }
 ],
 "metadata": {
  "kernelspec": {
   "display_name": "Python 3",
   "language": "python",
   "name": "python3"
  },
  "language_info": {
   "codemirror_mode": {
    "name": "ipython",
    "version": 3
   },
   "file_extension": ".py",
   "mimetype": "text/x-python",
   "name": "python",
   "nbconvert_exporter": "python",
   "pygments_lexer": "ipython3",
   "version": "3.8.5"
  }
 },
 "nbformat": 4,
 "nbformat_minor": 5
}
