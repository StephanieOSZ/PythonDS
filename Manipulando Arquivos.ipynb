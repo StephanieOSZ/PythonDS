{
 "cells": [
  {
   "cell_type": "markdown",
   "id": "forty-gnome",
   "metadata": {},
   "source": [
    "Manipulando Arquivos TXT"
   ]
  },
  {
   "cell_type": "code",
   "execution_count": 21,
   "id": "korean-evans",
   "metadata": {},
   "outputs": [],
   "source": [
    "texto = 'Cientista de dados é a profissão que mais vem crescendo no mundo.\\n'\n",
    "texto += 'Esses profissionais precisam se especializar em Programação, Estatistica e Machine Learning.\\n'\n",
    "texto += 'E claro, Big data'"
   ]
  },
  {
   "cell_type": "code",
   "execution_count": 22,
   "id": "equal-youth",
   "metadata": {},
   "outputs": [
    {
     "name": "stdout",
     "output_type": "stream",
     "text": [
      "Cientista de dados é a profissão que mais vem crescendo no mundo.\n",
      "Esses profissionais precisam se especializar em Programação, Estatistica e Machine Learning.\n",
      "E claro, Big data\n"
     ]
    }
   ],
   "source": [
    "print(texto)"
   ]
  },
  {
   "cell_type": "code",
   "execution_count": 23,
   "id": "romantic-corner",
   "metadata": {},
   "outputs": [],
   "source": [
    "#importando o modulo OS\n",
    "import os"
   ]
  },
  {
   "cell_type": "code",
   "execution_count": 24,
   "id": "surgical-rhythm",
   "metadata": {},
   "outputs": [],
   "source": [
    "#criando um arquivo\n",
    "arquivo = open(os.path.join('Arquivos/cientista.txt'),'w')"
   ]
  },
  {
   "cell_type": "code",
   "execution_count": 25,
   "id": "stopped-median",
   "metadata": {},
   "outputs": [],
   "source": [
    "#Gravando os textos no arquivo\n",
    "for palavra in texto.split():\n",
    "    arquivo.write(palavra+' ')"
   ]
  },
  {
   "cell_type": "code",
   "execution_count": 26,
   "id": "proper-aaron",
   "metadata": {},
   "outputs": [],
   "source": [
    "#fechando o arquivo\n",
    "arquivo.close()"
   ]
  },
  {
   "cell_type": "code",
   "execution_count": 27,
   "id": "documented-cable",
   "metadata": {},
   "outputs": [
    {
     "name": "stdout",
     "output_type": "stream",
     "text": [
      "Cientista de dados é a profissão que mais vem crescendo no mundo. Esses profissionais precisam se especializar em Programação, Estatistica e Machine Learning. E claro, Big data \n"
     ]
    }
   ],
   "source": [
    "#Lendo o arquivo\n",
    "arquivo = open('Arquivos/cientista.txt','r')\n",
    "conteudo = arquivo.read()\n",
    "arquivo.close()\n",
    "print(conteudo)"
   ]
  },
  {
   "cell_type": "markdown",
   "id": "golden-territory",
   "metadata": {},
   "source": [
    "Usando a expressão WITH\n",
    "\n",
    "O método close é executado automaticamente"
   ]
  },
  {
   "cell_type": "code",
   "execution_count": 28,
   "id": "modified-louisville",
   "metadata": {},
   "outputs": [],
   "source": [
    "with open('Arquivos/cientista.txt','r') as arquivo:\n",
    "    conteudo = arquivo.read()"
   ]
  },
  {
   "cell_type": "code",
   "execution_count": 29,
   "id": "governing-fraud",
   "metadata": {},
   "outputs": [
    {
     "name": "stdout",
     "output_type": "stream",
     "text": [
      "177\n"
     ]
    }
   ],
   "source": [
    "print(len(conteudo))"
   ]
  },
  {
   "cell_type": "code",
   "execution_count": 30,
   "id": "opposed-lawsuit",
   "metadata": {},
   "outputs": [
    {
     "name": "stdout",
     "output_type": "stream",
     "text": [
      "Cientista de dados é a profissão que mais vem crescendo no mundo. Esses profissionais precisam se especializar em Programação, Estatistica e Machine Learning. E claro, Big data \n"
     ]
    }
   ],
   "source": [
    "print(conteudo)"
   ]
  },
  {
   "cell_type": "code",
   "execution_count": 31,
   "id": "bronze-hypothesis",
   "metadata": {},
   "outputs": [],
   "source": [
    "with open('Arquivos/cientista.txt','w') as arquivo:\n",
    "    arquivo.write(texto[:21])\n",
    "    arquivo.write('\\n')\n",
    "    arquivo.write(texto[:33])"
   ]
  },
  {
   "cell_type": "code",
   "execution_count": 32,
   "id": "municipal-entry",
   "metadata": {},
   "outputs": [
    {
     "name": "stdout",
     "output_type": "stream",
     "text": [
      "Cientista de dados é \n",
      "Cientista de dados é a profissão \n"
     ]
    }
   ],
   "source": [
    "#Lendo o arquivo\n",
    "arquivo =  open('Arquivos/cientista.txt','r')\n",
    "conteudo = arquivo.read()\n",
    "arquivo.close()\n",
    "print(conteudo)"
   ]
  },
  {
   "cell_type": "markdown",
   "id": "legitimate-teaching",
   "metadata": {},
   "source": [
    "Manipulando arquivos CSV"
   ]
  },
  {
   "cell_type": "code",
   "execution_count": 34,
   "id": "backed-conviction",
   "metadata": {},
   "outputs": [],
   "source": [
    "#importando o módulo CSV\n",
    "import csv"
   ]
  },
  {
   "cell_type": "code",
   "execution_count": 35,
   "id": "criminal-fever",
   "metadata": {},
   "outputs": [],
   "source": [
    "with open('Arquivos/numeros.csv','w') as arquivo2:\n",
    "    writer = csv.writer(arquivo2)\n",
    "    writer.writerow(('Primeira','Segunda','Terceira'))\n",
    "    writer.writerow((55,93,76))\n",
    "    writer.writerow((62,14,86))"
   ]
  },
  {
   "cell_type": "code",
   "execution_count": 36,
   "id": "civilian-saint",
   "metadata": {},
   "outputs": [
    {
     "name": "stdout",
     "output_type": "stream",
     "text": [
      "Numero de coluna:  3\n",
      "['Primeira', 'Segunda', 'Terceira']\n",
      "Numero de coluna:  3\n",
      "['55', '93', '76']\n",
      "Numero de coluna:  3\n",
      "['62', '14', '86']\n"
     ]
    }
   ],
   "source": [
    "#Leitura de arquivos CSV\n",
    "with open('Arquivos/numeros.csv','r') as arquivo2:\n",
    "    leitor = csv.reader(arquivo2)\n",
    "    for x in leitor:\n",
    "        print('Numero de coluna: ',len(x))\n",
    "        print(x)"
   ]
  },
  {
   "cell_type": "code",
   "execution_count": 37,
   "id": "opening-terminology",
   "metadata": {},
   "outputs": [
    {
     "name": "stdout",
     "output_type": "stream",
     "text": [
      "[['Primeira', 'Segunda', 'Terceira'], ['55', '93', '76'], ['62', '14', '86']]\n"
     ]
    }
   ],
   "source": [
    "#Gerando uma lista de dados do arquivo CSV\n",
    "with open('Arquivos/numeros.csv','r') as arquivo2:\n",
    "    leitor = csv.reader(arquivo2)\n",
    "    dados = list(leitor)\n",
    "print(dados)"
   ]
  },
  {
   "cell_type": "code",
   "execution_count": 40,
   "id": "skilled-quest",
   "metadata": {},
   "outputs": [
    {
     "name": "stdout",
     "output_type": "stream",
     "text": [
      "[['55', '93', '76'], ['62', '14', '86']]\n",
      "['55', '93', '76']\n",
      "['62', '14', '86']\n"
     ]
    }
   ],
   "source": [
    "#imprimindo a partir da segunda linha\n",
    "print(dados[1:])\n",
    "\n",
    "for linha in dados[1:]:\n",
    "    print(linha)"
   ]
  },
  {
   "cell_type": "markdown",
   "id": "permanent-intake",
   "metadata": {},
   "source": [
    "Manipulando Arquivos em JSON (Java Script Object Notation)"
   ]
  },
  {
   "cell_type": "code",
   "execution_count": 41,
   "id": "noticed-government",
   "metadata": {},
   "outputs": [],
   "source": [
    "#Criando um dicionário\n",
    "dict = {'nome':'Guido Von Hossen',\n",
    "       'linguagem':'Python',\n",
    "       'simular':['c','modula-3','lisp'],\n",
    "       'users':1000000}"
   ]
  },
  {
   "cell_type": "code",
   "execution_count": 42,
   "id": "running-establishment",
   "metadata": {},
   "outputs": [
    {
     "name": "stdout",
     "output_type": "stream",
     "text": [
      "nome Guido Von Hossen\n",
      "linguagem Python\n",
      "simular ['c', 'modula-3', 'lisp']\n",
      "users 1000000\n"
     ]
    }
   ],
   "source": [
    "for k,v in dict.items():\n",
    "    print(k,v)"
   ]
  },
  {
   "cell_type": "code",
   "execution_count": 45,
   "id": "bored-immigration",
   "metadata": {},
   "outputs": [],
   "source": [
    "#Importando o modulo JSON\n",
    "import json"
   ]
  },
  {
   "cell_type": "code",
   "execution_count": 46,
   "id": "floral-turkey",
   "metadata": {},
   "outputs": [
    {
     "data": {
      "text/plain": [
       "'{\"nome\": \"Guido Von Hossen\", \"linguagem\": \"Python\", \"simular\": [\"c\", \"modula-3\", \"lisp\"], \"users\": 1000000}'"
      ]
     },
     "execution_count": 46,
     "metadata": {},
     "output_type": "execute_result"
    }
   ],
   "source": [
    "#convertendo o dicionario para um objeto json\n",
    "json.dumps(dict)"
   ]
  },
  {
   "cell_type": "code",
   "execution_count": 48,
   "id": "demographic-scene",
   "metadata": {},
   "outputs": [],
   "source": [
    "#criando um arquivo JSON\n",
    "with open('Arquivos/dados.json','w') as file:\n",
    "    file.write(json.dumps(dict))"
   ]
  },
  {
   "cell_type": "code",
   "execution_count": 49,
   "id": "velvet-diary",
   "metadata": {},
   "outputs": [],
   "source": [
    "#leitura do arquivo\n",
    "with open('Arquivos/dados.json','r') as file:\n",
    "    texto = file.read()\n",
    "    data = json.loads(texto)"
   ]
  },
  {
   "cell_type": "code",
   "execution_count": 50,
   "id": "amber-richmond",
   "metadata": {},
   "outputs": [
    {
     "name": "stdout",
     "output_type": "stream",
     "text": [
      "{'nome': 'Guido Von Hossen', 'linguagem': 'Python', 'simular': ['c', 'modula-3', 'lisp'], 'users': 1000000}\n"
     ]
    }
   ],
   "source": [
    "print(data)"
   ]
  },
  {
   "cell_type": "code",
   "execution_count": 51,
   "id": "greenhouse-massage",
   "metadata": {},
   "outputs": [
    {
     "name": "stdout",
     "output_type": "stream",
     "text": [
      "Guido Von Hossen\n"
     ]
    }
   ],
   "source": [
    "print(data['nome'])"
   ]
  }
 ],
 "metadata": {
  "kernelspec": {
   "display_name": "Python 3",
   "language": "python",
   "name": "python3"
  },
  "language_info": {
   "codemirror_mode": {
    "name": "ipython",
    "version": 3
   },
   "file_extension": ".py",
   "mimetype": "text/x-python",
   "name": "python",
   "nbconvert_exporter": "python",
   "pygments_lexer": "ipython3",
   "version": "3.8.5"
  }
 },
 "nbformat": 4,
 "nbformat_minor": 5
}
