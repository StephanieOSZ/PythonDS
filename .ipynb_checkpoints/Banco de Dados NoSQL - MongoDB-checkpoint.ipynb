{
 "cells": [
  {
   "cell_type": "markdown",
   "id": "foster-intake",
   "metadata": {},
   "source": [
    "# Banco de Dados NoSQL"
   ]
  },
  {
   "cell_type": "markdown",
   "id": "wound-employment",
   "metadata": {},
   "source": [
    "### Gravando dados do MongoDB usando pyMongo"
   ]
  },
  {
   "cell_type": "code",
   "execution_count": 3,
   "id": "exciting-floor",
   "metadata": {},
   "outputs": [],
   "source": [
    "# Instala o pacote pymongo para conectar no banco de dados MongoDB\n",
    "#!pip install -q pymongo"
   ]
  },
  {
   "cell_type": "code",
   "execution_count": 4,
   "id": "private-emphasis",
   "metadata": {},
   "outputs": [],
   "source": [
    "# Importamos o MongoClient para conectar nossa aplicação ao MongoDB\n",
    "from pymongo import MongoClient"
   ]
  },
  {
   "cell_type": "code",
   "execution_count": 5,
   "id": "better-seattle",
   "metadata": {},
   "outputs": [],
   "source": [
    "# Estabelecemos a conexão ao Banco de Dados\n",
    "conn = MongoClient('localhost', 27017)"
   ]
  },
  {
   "cell_type": "code",
   "execution_count": 6,
   "id": "collected-galaxy",
   "metadata": {},
   "outputs": [
    {
     "data": {
      "text/plain": [
       "pymongo.mongo_client.MongoClient"
      ]
     },
     "execution_count": 6,
     "metadata": {},
     "output_type": "execute_result"
    }
   ],
   "source": [
    "type(conn)"
   ]
  },
  {
   "cell_type": "code",
   "execution_count": 7,
   "id": "italic-blank",
   "metadata": {},
   "outputs": [],
   "source": [
    "# Uma única instância do MongoDB pode suportar diversos bancos de dados. \n",
    "# Vamos criar o banco de dados cadastrodb (banco de dados)\n",
    "db = conn.cadastrodb"
   ]
  },
  {
   "cell_type": "code",
   "execution_count": 8,
   "id": "developing-julian",
   "metadata": {
    "scrolled": true
   },
   "outputs": [
    {
     "data": {
      "text/plain": [
       "pymongo.database.Database"
      ]
     },
     "execution_count": 8,
     "metadata": {},
     "output_type": "execute_result"
    }
   ],
   "source": [
    "type(db)"
   ]
  },
  {
   "cell_type": "code",
   "execution_count": 9,
   "id": "naughty-quick",
   "metadata": {},
   "outputs": [],
   "source": [
    "# Uma coleção é um grupo de documentos armazenados no MongoDB \n",
    "# (relativamente parecido com o conceito de tabelas em bancos relacionais) (tabela)\n",
    "collection = db.cadastrodb"
   ]
  },
  {
   "cell_type": "code",
   "execution_count": 10,
   "id": "retired-album",
   "metadata": {
    "scrolled": true
   },
   "outputs": [
    {
     "data": {
      "text/plain": [
       "pymongo.collection.Collection"
      ]
     },
     "execution_count": 10,
     "metadata": {},
     "output_type": "execute_result"
    }
   ],
   "source": [
    "type(collection)"
   ]
  },
  {
   "cell_type": "code",
   "execution_count": 11,
   "id": "resident-longer",
   "metadata": {},
   "outputs": [],
   "source": [
    "import datetime"
   ]
  },
  {
   "cell_type": "markdown",
   "id": "complete-above",
   "metadata": {},
   "source": [
    "Dados no MongoDB são representados (e armazenados) usando documentos JSON (Java Script Object Notation). Com o PyMongo usamos dicionários para representar documentos."
   ]
  },
  {
   "cell_type": "code",
   "execution_count": 13,
   "id": "wicked-madison",
   "metadata": {},
   "outputs": [],
   "source": [
    "post1 = {\"codigo\": \"ID-9987725\",\n",
    "        \"prod_name\": \"Geladeira\",\n",
    "        \"marcas\": [\"brastemp\", \"consul\", \"elecrolux\"],\n",
    "        \"data_cadastro\": datetime.datetime.utcnow()}"
   ]
  },
  {
   "cell_type": "code",
   "execution_count": 14,
   "id": "beginning-making",
   "metadata": {},
   "outputs": [
    {
     "data": {
      "text/plain": [
       "dict"
      ]
     },
     "execution_count": 14,
     "metadata": {},
     "output_type": "execute_result"
    }
   ],
   "source": [
    "type(post1)"
   ]
  },
  {
   "cell_type": "code",
   "execution_count": 15,
   "id": "handmade-syntax",
   "metadata": {},
   "outputs": [],
   "source": [
    "#coleção\n",
    "collection = db.posts"
   ]
  },
  {
   "cell_type": "code",
   "execution_count": 16,
   "id": "civil-elite",
   "metadata": {},
   "outputs": [],
   "source": [
    "post_id = collection.insert_one(post1)"
   ]
  },
  {
   "cell_type": "code",
   "execution_count": 17,
   "id": "valid-parade",
   "metadata": {},
   "outputs": [
    {
     "data": {
      "text/plain": [
       "ObjectId('601ab1ac6017394db93ac078')"
      ]
     },
     "execution_count": 17,
     "metadata": {},
     "output_type": "execute_result"
    }
   ],
   "source": [
    "post_id.inserted_id"
   ]
  },
  {
   "cell_type": "code",
   "execution_count": 18,
   "id": "collective-render",
   "metadata": {},
   "outputs": [
    {
     "data": {
      "text/plain": [
       "<pymongo.results.InsertOneResult at 0x7f1e010e2e00>"
      ]
     },
     "execution_count": 18,
     "metadata": {},
     "output_type": "execute_result"
    }
   ],
   "source": [
    "# Quando um documento é inserido uma chave especial, \"_id\", é adicionada \n",
    "# automaticamente se o documento ainda não contém uma chave \"_id\".\n",
    "post_id"
   ]
  },
  {
   "cell_type": "code",
   "execution_count": 19,
   "id": "honey-poultry",
   "metadata": {},
   "outputs": [],
   "source": [
    "post2 = {\"codigo\": \"ID-2209876\",\n",
    "        \"prod_name\": \"Televisor\",\n",
    "        \"marcas\": [\"samsung\", \"panasonic\", \"lg\"],\n",
    "        \"data_cadastro\": datetime.datetime.utcnow()}"
   ]
  },
  {
   "cell_type": "code",
   "execution_count": 20,
   "id": "other-launch",
   "metadata": {},
   "outputs": [],
   "source": [
    "collection = db.posts"
   ]
  },
  {
   "cell_type": "code",
   "execution_count": 21,
   "id": "passing-functionality",
   "metadata": {},
   "outputs": [],
   "source": [
    "post_id = collection.insert_one(post2).inserted_id"
   ]
  },
  {
   "cell_type": "code",
   "execution_count": 22,
   "id": "parliamentary-copper",
   "metadata": {},
   "outputs": [
    {
     "data": {
      "text/plain": [
       "ObjectId('601ab1d66017394db93ac079')"
      ]
     },
     "execution_count": 22,
     "metadata": {},
     "output_type": "execute_result"
    }
   ],
   "source": [
    "post_id"
   ]
  },
  {
   "cell_type": "code",
   "execution_count": 23,
   "id": "significant-excess",
   "metadata": {},
   "outputs": [
    {
     "data": {
      "text/plain": [
       "{'_id': ObjectId('601ab1d66017394db93ac079'),\n",
       " 'codigo': 'ID-2209876',\n",
       " 'prod_name': 'Televisor',\n",
       " 'marcas': ['samsung', 'panasonic', 'lg'],\n",
       " 'data_cadastro': datetime.datetime(2021, 2, 3, 14, 23, 3, 58000)}"
      ]
     },
     "execution_count": 23,
     "metadata": {},
     "output_type": "execute_result"
    }
   ],
   "source": [
    "collection.find_one({\"prod_name\": \"Televisor\"})"
   ]
  },
  {
   "cell_type": "code",
   "execution_count": 24,
   "id": "prime-jersey",
   "metadata": {},
   "outputs": [
    {
     "name": "stdout",
     "output_type": "stream",
     "text": [
      "{'_id': ObjectId('601ab1ac6017394db93ac078'), 'codigo': 'ID-9987725', 'prod_name': 'Geladeira', 'marcas': ['brastemp', 'consul', 'elecrolux'], 'data_cadastro': datetime.datetime(2021, 2, 3, 13, 56, 3, 111000)}\n",
      "{'_id': ObjectId('601ab1d66017394db93ac079'), 'codigo': 'ID-2209876', 'prod_name': 'Televisor', 'marcas': ['samsung', 'panasonic', 'lg'], 'data_cadastro': datetime.datetime(2021, 2, 3, 14, 23, 3, 58000)}\n"
     ]
    }
   ],
   "source": [
    "# A função find() retorna um cursor e podemos então navegar pelos dados\n",
    "for post in collection.find():\n",
    "    print(post)"
   ]
  },
  {
   "cell_type": "code",
   "execution_count": 25,
   "id": "adolescent-hydrogen",
   "metadata": {},
   "outputs": [
    {
     "data": {
      "text/plain": [
       "'cadastrodb'"
      ]
     },
     "execution_count": 25,
     "metadata": {},
     "output_type": "execute_result"
    }
   ],
   "source": [
    "# Verificando o nome do banco de dados\n",
    "db.name"
   ]
  },
  {
   "cell_type": "code",
   "execution_count": 27,
   "id": "institutional-oklahoma",
   "metadata": {},
   "outputs": [
    {
     "data": {
      "text/plain": [
       "['posts']"
      ]
     },
     "execution_count": 27,
     "metadata": {},
     "output_type": "execute_result"
    }
   ],
   "source": [
    "# Listando as coleções disponíveis\n",
    "db.list_collection_names()"
   ]
  }
 ],
 "metadata": {
  "kernelspec": {
   "display_name": "Python 3",
   "language": "python",
   "name": "python3"
  },
  "language_info": {
   "codemirror_mode": {
    "name": "ipython",
    "version": 3
   },
   "file_extension": ".py",
   "mimetype": "text/x-python",
   "name": "python",
   "nbconvert_exporter": "python",
   "pygments_lexer": "ipython3",
   "version": "3.8.5"
  }
 },
 "nbformat": 4,
 "nbformat_minor": 5
}
