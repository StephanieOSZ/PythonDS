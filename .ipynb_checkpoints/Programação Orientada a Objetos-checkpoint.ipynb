{
 "cells": [
  {
   "cell_type": "markdown",
   "id": "cooked-cisco",
   "metadata": {},
   "source": [
    "# OOP"
   ]
  },
  {
   "cell_type": "markdown",
   "id": "dressed-spank",
   "metadata": {},
   "source": [
    "### Classes"
   ]
  },
  {
   "cell_type": "code",
   "execution_count": 1,
   "id": "moved-athletics",
   "metadata": {},
   "outputs": [],
   "source": [
    "#Criando uma classe chamada livros\n",
    "#o nome da classe SEMPRE em maiusculo\n",
    "class Livro():\n",
    "    #construtor\n",
    "    #vai iniciar cada objeto criado a partir desta classe\n",
    "    def __init__(self):\n",
    "        self.titulo = 'O Monge e o Executivo'\n",
    "        self.isbn = 9988888\n",
    "        print('Construtor chamado ara criar um objeto desta classe')\n",
    "        \n",
    "    def imprime(self):\n",
    "        print('Foi criado o livro %s e ISBN %d'%(self.titulo,self.isbn))\n",
    "    "
   ]
  },
  {
   "cell_type": "code",
   "execution_count": 2,
   "id": "greenhouse-short",
   "metadata": {},
   "outputs": [
    {
     "name": "stdout",
     "output_type": "stream",
     "text": [
      "Construtor chamado ara criar um objeto desta classe\n"
     ]
    }
   ],
   "source": [
    "#Criando uma instância da classe livro\n",
    "Livro1 = Livro()"
   ]
  },
  {
   "cell_type": "code",
   "execution_count": 3,
   "id": "artificial-italy",
   "metadata": {},
   "outputs": [
    {
     "data": {
      "text/plain": [
       "__main__.Livro"
      ]
     },
     "execution_count": 3,
     "metadata": {},
     "output_type": "execute_result"
    }
   ],
   "source": [
    "type(Livro1)"
   ]
  },
  {
   "cell_type": "code",
   "execution_count": 4,
   "id": "running-stylus",
   "metadata": {},
   "outputs": [
    {
     "data": {
      "text/plain": [
       "'O Monge e o Executivo'"
      ]
     },
     "execution_count": 4,
     "metadata": {},
     "output_type": "execute_result"
    }
   ],
   "source": [
    "#Atributo do objeto Livro1\n",
    "Livro1.titulo"
   ]
  },
  {
   "cell_type": "code",
   "execution_count": 5,
   "id": "infinite-thousand",
   "metadata": {},
   "outputs": [
    {
     "name": "stdout",
     "output_type": "stream",
     "text": [
      "Foi criado o livro O Monge e o Executivo e ISBN 9988888\n"
     ]
    }
   ],
   "source": [
    "Livro1.imprime()"
   ]
  },
  {
   "cell_type": "code",
   "execution_count": 18,
   "id": "positive-database",
   "metadata": {},
   "outputs": [],
   "source": [
    "#Criando a classe livro com parametros no método construtor\n",
    "class Livro():\n",
    "    def __init__(self,titulo,isbn):\n",
    "        #atributos\n",
    "        self.titulo = titulo\n",
    "        self.isbn = isbn\n",
    "        print('Construtor chamado para criar um objeto desta classe')\n",
    "    #Metodo    \n",
    "    def imprime(self):\n",
    "        print('Foi criado o livro %s e ISBN %d'%(self.titulo,self.isbn))"
   ]
  },
  {
   "cell_type": "code",
   "execution_count": 20,
   "id": "careful-poker",
   "metadata": {},
   "outputs": [
    {
     "name": "stdout",
     "output_type": "stream",
     "text": [
      "Construtor chamado para criar um objeto desta classe\n"
     ]
    }
   ],
   "source": [
    "Livro2 = Livro('A menina que roubava livros',77886611)"
   ]
  },
  {
   "cell_type": "code",
   "execution_count": 21,
   "id": "common-somalia",
   "metadata": {},
   "outputs": [
    {
     "name": "stdout",
     "output_type": "stream",
     "text": [
      "Foi criado o livro A menina que roubava livros e ISBN 77886611\n"
     ]
    }
   ],
   "source": [
    "Livro2.imprime()"
   ]
  },
  {
   "cell_type": "code",
   "execution_count": 22,
   "id": "enclosed-triumph",
   "metadata": {},
   "outputs": [],
   "source": [
    "#Criando a classe cachorro\n",
    "class Cachorro():\n",
    "    def __init__(self,raca):\n",
    "        self.raca = raca\n",
    "        print('Construtor chamado para criar um objeto desta classe')"
   ]
  },
  {
   "cell_type": "code",
   "execution_count": 23,
   "id": "narrative-indiana",
   "metadata": {},
   "outputs": [
    {
     "name": "stdout",
     "output_type": "stream",
     "text": [
      "Construtor chamado para criar um objeto desta classe\n"
     ]
    }
   ],
   "source": [
    "#Criando um objeto a partir da classe cachorro\n",
    "rex = Cachorro('Labrador')"
   ]
  },
  {
   "cell_type": "code",
   "execution_count": 24,
   "id": "suburban-casting",
   "metadata": {},
   "outputs": [
    {
     "data": {
      "text/plain": [
       "'Labrador'"
      ]
     },
     "execution_count": 24,
     "metadata": {},
     "output_type": "execute_result"
    }
   ],
   "source": [
    "rex.raca"
   ]
  },
  {
   "cell_type": "code",
   "execution_count": 25,
   "id": "thorough-swiss",
   "metadata": {},
   "outputs": [
    {
     "name": "stdout",
     "output_type": "stream",
     "text": [
      "Construtor chamado para criar um objeto desta classe\n"
     ]
    }
   ],
   "source": [
    "golias = Cachorro(raca='Huskie')"
   ]
  },
  {
   "cell_type": "code",
   "execution_count": 26,
   "id": "played-corrections",
   "metadata": {},
   "outputs": [
    {
     "data": {
      "text/plain": [
       "'Huskie'"
      ]
     },
     "execution_count": 26,
     "metadata": {},
     "output_type": "execute_result"
    }
   ],
   "source": [
    "golias.raca"
   ]
  },
  {
   "cell_type": "code",
   "execution_count": 30,
   "id": "proprietary-filing",
   "metadata": {},
   "outputs": [
    {
     "name": "stdout",
     "output_type": "stream",
     "text": [
      "<class 'int'>\n",
      "<class 'list'>\n",
      "<class 'tuple'>\n",
      "<class 'dict'>\n",
      "<class 'str'>\n"
     ]
    }
   ],
   "source": [
    "#Usamos a função type, para verificar o tipo de um objeto\n",
    "print(type(10))\n",
    "print(type([]))\n",
    "print(type(()))\n",
    "print(type({}))\n",
    "print(type('a'))"
   ]
  },
  {
   "cell_type": "code",
   "execution_count": 31,
   "id": "entertaining-salem",
   "metadata": {},
   "outputs": [
    {
     "name": "stdout",
     "output_type": "stream",
     "text": [
      "<class '__main__.Carro'>\n"
     ]
    }
   ],
   "source": [
    "#Criando um novo tipo de objeto chamado Carro\n",
    "class Carro(object):\n",
    "    pass\n",
    "\n",
    "#Instância do Carro\n",
    "palio = Carro()\n",
    "\n",
    "\n",
    "print(type(palio))"
   ]
  },
  {
   "cell_type": "markdown",
   "id": "bronze-plymouth",
   "metadata": {},
   "source": [
    "### Objetos"
   ]
  },
  {
   "cell_type": "code",
   "execution_count": 36,
   "id": "fatal-research",
   "metadata": {},
   "outputs": [],
   "source": [
    "#Criando uma classe\n",
    "class Estudantes():\n",
    "    def __init__(self,nome,idade,nota):\n",
    "        self.nome = nome\n",
    "        self.idade = idade\n",
    "        self.nota = nota"
   ]
  },
  {
   "cell_type": "code",
   "execution_count": 38,
   "id": "another-ethnic",
   "metadata": {},
   "outputs": [],
   "source": [
    "estudante1 = Estudantes('Pele',12,9.5)"
   ]
  },
  {
   "cell_type": "code",
   "execution_count": 39,
   "id": "typical-northwest",
   "metadata": {},
   "outputs": [
    {
     "data": {
      "text/plain": [
       "'Pele'"
      ]
     },
     "execution_count": 39,
     "metadata": {},
     "output_type": "execute_result"
    }
   ],
   "source": [
    "estudante1.nome"
   ]
  },
  {
   "cell_type": "code",
   "execution_count": 40,
   "id": "preliminary-device",
   "metadata": {},
   "outputs": [
    {
     "name": "stdout",
     "output_type": "stream",
     "text": [
      "Pele 12 9.5\n"
     ]
    }
   ],
   "source": [
    "print(estudante1.nome,estudante1.idade,estudante1.nota)"
   ]
  },
  {
   "cell_type": "code",
   "execution_count": 44,
   "id": "single-conclusion",
   "metadata": {},
   "outputs": [],
   "source": [
    "# Criando uma classe\n",
    "class Funcionarios:\n",
    "    def __init__(self,nome,salario):\n",
    "        self.nome = nome\n",
    "        self.salario = salario\n",
    "        \n",
    "    def listFunc(self):\n",
    "        print(\"O nome do funcionario é \"+self.nome+\" e o salário e R$\"+str(self.salario))"
   ]
  },
  {
   "cell_type": "code",
   "execution_count": 45,
   "id": "registered-battle",
   "metadata": {},
   "outputs": [],
   "source": [
    "func1 = Funcionarios(\"Obama\",20000)"
   ]
  },
  {
   "cell_type": "code",
   "execution_count": 46,
   "id": "piano-spouse",
   "metadata": {},
   "outputs": [
    {
     "name": "stdout",
     "output_type": "stream",
     "text": [
      "O nome do funcionario é Obama e o salário e R$20000\n"
     ]
    }
   ],
   "source": [
    "func1.listFunc()"
   ]
  },
  {
   "cell_type": "code",
   "execution_count": 47,
   "id": "naughty-swedish",
   "metadata": {},
   "outputs": [
    {
     "name": "stdout",
     "output_type": "stream",
     "text": [
      "**** Usando Atributos ****\n"
     ]
    }
   ],
   "source": [
    "print(\"**** Usando Atributos ****\")"
   ]
  },
  {
   "cell_type": "code",
   "execution_count": 48,
   "id": "narrative-prophet",
   "metadata": {},
   "outputs": [
    {
     "data": {
      "text/plain": [
       "True"
      ]
     },
     "execution_count": 48,
     "metadata": {},
     "output_type": "execute_result"
    }
   ],
   "source": [
    "hasattr(func1,\"nome\")"
   ]
  },
  {
   "cell_type": "code",
   "execution_count": 49,
   "id": "structural-planner",
   "metadata": {},
   "outputs": [],
   "source": [
    "setattr(func1,\"salario\",4500)"
   ]
  },
  {
   "cell_type": "code",
   "execution_count": 50,
   "id": "tropical-check",
   "metadata": {},
   "outputs": [
    {
     "name": "stdout",
     "output_type": "stream",
     "text": [
      "O nome do funcionario é Obama e o salário e R$4500\n"
     ]
    }
   ],
   "source": [
    "func1.listFunc()"
   ]
  },
  {
   "cell_type": "code",
   "execution_count": 51,
   "id": "hispanic-juvenile",
   "metadata": {},
   "outputs": [
    {
     "data": {
      "text/plain": [
       "4500"
      ]
     },
     "execution_count": 51,
     "metadata": {},
     "output_type": "execute_result"
    }
   ],
   "source": [
    "getattr(func1,\"salario\")"
   ]
  },
  {
   "cell_type": "code",
   "execution_count": 52,
   "id": "viral-quantity",
   "metadata": {},
   "outputs": [],
   "source": [
    "delattr(func1,\"salario\")"
   ]
  },
  {
   "cell_type": "code",
   "execution_count": 53,
   "id": "incorrect-jimmy",
   "metadata": {},
   "outputs": [
    {
     "data": {
      "text/plain": [
       "False"
      ]
     },
     "execution_count": 53,
     "metadata": {},
     "output_type": "execute_result"
    }
   ],
   "source": [
    "hasattr(func1,\"salario\")"
   ]
  },
  {
   "cell_type": "markdown",
   "id": "planned-minority",
   "metadata": {},
   "source": [
    "### Métodos"
   ]
  },
  {
   "cell_type": "code",
   "execution_count": 54,
   "id": "completed-feature",
   "metadata": {},
   "outputs": [],
   "source": [
    "#Criando uma classe chamada Circulo\n",
    "class Circulo():\n",
    "    #O valor de PI é constante\n",
    "    pi = 3.14\n",
    "    \n",
    "    #Quando um objeto desta classe for criado, este método será executado e o valor default do rai será 5.\n",
    "    def __init__(self,raio=5):\n",
    "        self.raio = raio\n",
    "        \n",
    "    #Esse metodo calcula a area. Self utiliza os atributos deste mesmo objeto\n",
    "    def area(self):\n",
    "        return (self.raio**2)*Circulo.pi\n",
    "    \n",
    "    #Metodo para gerar um novo raio\n",
    "    def setRaio(self,novo_raio):\n",
    "        self.raio = novo_raio\n",
    "    \n",
    "    #Metodo para obter o raio do circulo\n",
    "    def getRaio(self):\n",
    "        return self.raio"
   ]
  },
  {
   "cell_type": "code",
   "execution_count": 55,
   "id": "consolidated-summer",
   "metadata": {},
   "outputs": [],
   "source": [
    "#Criando o obj circ. uma instancia da classe Circulo()\n",
    "circ = Circulo()"
   ]
  },
  {
   "cell_type": "code",
   "execution_count": 56,
   "id": "flexible-technique",
   "metadata": {},
   "outputs": [
    {
     "data": {
      "text/plain": [
       "5"
      ]
     },
     "execution_count": 56,
     "metadata": {},
     "output_type": "execute_result"
    }
   ],
   "source": [
    "circ.getRaio()"
   ]
  },
  {
   "cell_type": "code",
   "execution_count": 59,
   "id": "average-edgar",
   "metadata": {},
   "outputs": [
    {
     "name": "stdout",
     "output_type": "stream",
     "text": [
      "O raio é: 5\n"
     ]
    }
   ],
   "source": [
    "print('O raio é: '+str(circ.getRaio()))"
   ]
  },
  {
   "cell_type": "code",
   "execution_count": 60,
   "id": "fluid-welsh",
   "metadata": {},
   "outputs": [
    {
     "name": "stdout",
     "output_type": "stream",
     "text": [
      "O area é: 78.5\n"
     ]
    }
   ],
   "source": [
    "print('O area é: '+str(circ.area()))"
   ]
  },
  {
   "cell_type": "code",
   "execution_count": 61,
   "id": "blind-pointer",
   "metadata": {},
   "outputs": [],
   "source": [
    "circ1 = Circulo(7)"
   ]
  },
  {
   "cell_type": "code",
   "execution_count": 62,
   "id": "coated-ghana",
   "metadata": {},
   "outputs": [
    {
     "name": "stdout",
     "output_type": "stream",
     "text": [
      "O raio é: 7\n"
     ]
    }
   ],
   "source": [
    "print('O raio é: '+str(circ1.getRaio()))"
   ]
  },
  {
   "cell_type": "code",
   "execution_count": 65,
   "id": "green-facing",
   "metadata": {},
   "outputs": [],
   "source": [
    "circ1.setRaio(8)"
   ]
  },
  {
   "cell_type": "code",
   "execution_count": 66,
   "id": "aerial-murray",
   "metadata": {},
   "outputs": [
    {
     "name": "stdout",
     "output_type": "stream",
     "text": [
      "O raio é: 8\n"
     ]
    }
   ],
   "source": [
    "print('O raio é: '+str(circ1.getRaio()))"
   ]
  },
  {
   "cell_type": "markdown",
   "id": "pressing-butter",
   "metadata": {},
   "source": [
    "### Herança "
   ]
  },
  {
   "cell_type": "code",
   "execution_count": 69,
   "id": "opposed-journal",
   "metadata": {},
   "outputs": [],
   "source": [
    "#Criando a classe animal - Super Classe\n",
    "class Animal():\n",
    "    def __init__(self):\n",
    "        print('Animal Criado')\n",
    "        \n",
    "    def Identif(self):\n",
    "        print('Animal')\n",
    "        \n",
    "    def comer(self):\n",
    "        print('Comendo')"
   ]
  },
  {
   "cell_type": "code",
   "execution_count": 70,
   "id": "assigned-madagascar",
   "metadata": {},
   "outputs": [],
   "source": [
    "#Criando a classe cachorro\n",
    "class Cachorro(Animal):\n",
    "    def __init__(self):\n",
    "        Animal.__init__(self)\n",
    "        print('Objeto Cachorro criado')\n",
    "        \n",
    "    def Identif(self):\n",
    "        print('Cachorro')\n",
    "        \n",
    "    def latir(self):\n",
    "        print('Au Au')"
   ]
  },
  {
   "cell_type": "code",
   "execution_count": 71,
   "id": "small-amino",
   "metadata": {},
   "outputs": [
    {
     "name": "stdout",
     "output_type": "stream",
     "text": [
      "Animal Criado\n",
      "Objeto Cachorro criado\n"
     ]
    }
   ],
   "source": [
    "# Criando um objetoo (Instanciando a classe)\n",
    "rex = Cachorro()"
   ]
  },
  {
   "cell_type": "code",
   "execution_count": 72,
   "id": "characteristic-meter",
   "metadata": {},
   "outputs": [
    {
     "name": "stdout",
     "output_type": "stream",
     "text": [
      "Cachorro\n"
     ]
    }
   ],
   "source": [
    "#Executando o metodo de classe Cachorro (sub-classe)\n",
    "rex.Identif()"
   ]
  },
  {
   "cell_type": "code",
   "execution_count": 73,
   "id": "supreme-mexican",
   "metadata": {},
   "outputs": [
    {
     "name": "stdout",
     "output_type": "stream",
     "text": [
      "Comendo\n"
     ]
    }
   ],
   "source": [
    "rex.comer()"
   ]
  },
  {
   "cell_type": "code",
   "execution_count": 74,
   "id": "regular-fisher",
   "metadata": {},
   "outputs": [
    {
     "name": "stdout",
     "output_type": "stream",
     "text": [
      "Au Au\n"
     ]
    }
   ],
   "source": [
    "rex.latir()"
   ]
  },
  {
   "cell_type": "markdown",
   "id": "acute-incident",
   "metadata": {},
   "source": [
    "### Métodos Especiais"
   ]
  },
  {
   "cell_type": "code",
   "execution_count": 82,
   "id": "unsigned-latest",
   "metadata": {},
   "outputs": [],
   "source": [
    "#Criando a classe Livro\n",
    "class Livro():\n",
    "    def __init__(self,titulo,autor,paginas):\n",
    "        print('Livro criado')\n",
    "        self.titulo = titulo\n",
    "        self.autor = autor\n",
    "        self.paginas = paginas\n",
    "        \n",
    "    def __str__(self):\n",
    "        return \"Titulo: %s , autor: %s , páginas: %s \"\\\n",
    "    %(self.titulo,self.autor,self.paginas)\n",
    "    \n",
    "    def __len__(self):\n",
    "        return self.paginas\n",
    "    \n",
    "    def len(self):\n",
    "        return print('Paginas do livro com método comum: ', self.paginas)"
   ]
  },
  {
   "cell_type": "code",
   "execution_count": 83,
   "id": "technical-isolation",
   "metadata": {},
   "outputs": [
    {
     "name": "stdout",
     "output_type": "stream",
     "text": [
      "Livro criado\n"
     ]
    }
   ],
   "source": [
    "livro1 = Livro('Os Lusíadas','Luis de Camões',8816)"
   ]
  },
  {
   "cell_type": "code",
   "execution_count": 84,
   "id": "norwegian-killer",
   "metadata": {},
   "outputs": [
    {
     "name": "stdout",
     "output_type": "stream",
     "text": [
      "Titulo: Os Lusíadas , autor: Luis de Camões , páginas: 8816 \n"
     ]
    }
   ],
   "source": [
    "#Métodos especiais\n",
    "print(livro1)"
   ]
  },
  {
   "cell_type": "code",
   "execution_count": 85,
   "id": "activated-shoulder",
   "metadata": {},
   "outputs": [
    {
     "data": {
      "text/plain": [
       "'Titulo: Os Lusíadas , autor: Luis de Camões , páginas: 8816 '"
      ]
     },
     "execution_count": 85,
     "metadata": {},
     "output_type": "execute_result"
    }
   ],
   "source": [
    "str(livro1)"
   ]
  },
  {
   "cell_type": "code",
   "execution_count": 86,
   "id": "canadian-slope",
   "metadata": {},
   "outputs": [
    {
     "data": {
      "text/plain": [
       "8816"
      ]
     },
     "execution_count": 86,
     "metadata": {},
     "output_type": "execute_result"
    }
   ],
   "source": [
    "len(livro1)"
   ]
  },
  {
   "cell_type": "code",
   "execution_count": 87,
   "id": "generous-canada",
   "metadata": {},
   "outputs": [
    {
     "name": "stdout",
     "output_type": "stream",
     "text": [
      "Paginas do livro com método comum:  8816\n"
     ]
    }
   ],
   "source": [
    "livro1.len()"
   ]
  },
  {
   "cell_type": "code",
   "execution_count": 88,
   "id": "ordinary-ready",
   "metadata": {},
   "outputs": [],
   "source": [
    "#Ao executar a função del para remover um atributo, o python executa:\n",
    "#livro1.__delattr__(\"pagina\")\n",
    "del livro1.paginas"
   ]
  },
  {
   "cell_type": "code",
   "execution_count": 89,
   "id": "downtown-complement",
   "metadata": {},
   "outputs": [
    {
     "data": {
      "text/plain": [
       "False"
      ]
     },
     "execution_count": 89,
     "metadata": {},
     "output_type": "execute_result"
    }
   ],
   "source": [
    "hasattr(livro1,'paginas')"
   ]
  }
 ],
 "metadata": {
  "kernelspec": {
   "display_name": "Python 3",
   "language": "python",
   "name": "python3"
  },
  "language_info": {
   "codemirror_mode": {
    "name": "ipython",
    "version": 3
   },
   "file_extension": ".py",
   "mimetype": "text/x-python",
   "name": "python",
   "nbconvert_exporter": "python",
   "pygments_lexer": "ipython3",
   "version": "3.8.5"
  }
 },
 "nbformat": 4,
 "nbformat_minor": 5
}
