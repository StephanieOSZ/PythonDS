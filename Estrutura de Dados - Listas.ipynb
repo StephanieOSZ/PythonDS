{
 "cells": [
  {
   "cell_type": "markdown",
   "id": "outstanding-delta",
   "metadata": {},
   "source": [
    "# Listas"
   ]
  },
  {
   "cell_type": "code",
   "execution_count": 2,
   "id": "taken-church",
   "metadata": {},
   "outputs": [],
   "source": [
    "#criando a lista\n",
    "listadomercado = ['ovos','farinha','leite','maças']"
   ]
  },
  {
   "cell_type": "code",
   "execution_count": 3,
   "id": "hollywood-germany",
   "metadata": {},
   "outputs": [
    {
     "name": "stdout",
     "output_type": "stream",
     "text": [
      "['ovos', 'farinha', 'leite', 'maças']\n"
     ]
    }
   ],
   "source": [
    "print(listadomercado)"
   ]
  },
  {
   "cell_type": "code",
   "execution_count": 4,
   "id": "extra-laugh",
   "metadata": {},
   "outputs": [],
   "source": [
    "#criando outra lista\n",
    "listadomercado2 = ['ovos','farinha','leite','maças']"
   ]
  },
  {
   "cell_type": "code",
   "execution_count": 5,
   "id": "complicated-insert",
   "metadata": {},
   "outputs": [
    {
     "name": "stdout",
     "output_type": "stream",
     "text": [
      "ovos ovos\n"
     ]
    }
   ],
   "source": [
    "print(listadomercado[0],listadomercado2[0])"
   ]
  },
  {
   "cell_type": "code",
   "execution_count": 6,
   "id": "continuous-plaintiff",
   "metadata": {},
   "outputs": [],
   "source": [
    "#criando lista\n",
    "lista3 = [12,100,'universidade']"
   ]
  },
  {
   "cell_type": "code",
   "execution_count": 7,
   "id": "compact-fitting",
   "metadata": {},
   "outputs": [
    {
     "name": "stdout",
     "output_type": "stream",
     "text": [
      "[12, 100, 'universidade']\n"
     ]
    }
   ],
   "source": [
    "print(lista3)"
   ]
  },
  {
   "cell_type": "code",
   "execution_count": 8,
   "id": "portuguese-praise",
   "metadata": {},
   "outputs": [],
   "source": [
    "#atribuindo cada valor da lista em uma variavel\n",
    "item1 = lista3[0]\n",
    "item2 = lista3[1]\n",
    "item3 = lista3[2]"
   ]
  },
  {
   "cell_type": "code",
   "execution_count": 9,
   "id": "vital-catalyst",
   "metadata": {},
   "outputs": [
    {
     "name": "stdout",
     "output_type": "stream",
     "text": [
      "12 100 universidade\n"
     ]
    }
   ],
   "source": [
    "print(item1,item2,item3)"
   ]
  },
  {
   "cell_type": "markdown",
   "id": "genetic-scanning",
   "metadata": {},
   "source": [
    "Atualizando um item da lista"
   ]
  },
  {
   "cell_type": "code",
   "execution_count": 10,
   "id": "discrete-dakota",
   "metadata": {},
   "outputs": [],
   "source": [
    "listadomercado2[2]='chocolate'"
   ]
  },
  {
   "cell_type": "code",
   "execution_count": 12,
   "id": "junior-decrease",
   "metadata": {},
   "outputs": [
    {
     "data": {
      "text/plain": [
       "['ovos', 'farinha', 'chocolate', 'maças']"
      ]
     },
     "execution_count": 12,
     "metadata": {},
     "output_type": "execute_result"
    }
   ],
   "source": [
    "listadomercado2"
   ]
  },
  {
   "cell_type": "markdown",
   "id": "lasting-supply",
   "metadata": {},
   "source": [
    "Deletando um item da lista"
   ]
  },
  {
   "cell_type": "code",
   "execution_count": 13,
   "id": "different-opposition",
   "metadata": {},
   "outputs": [],
   "source": [
    "del listadomercado2[0]"
   ]
  },
  {
   "cell_type": "code",
   "execution_count": 14,
   "id": "antique-boulder",
   "metadata": {},
   "outputs": [
    {
     "data": {
      "text/plain": [
       "['farinha', 'chocolate', 'maças']"
      ]
     },
     "execution_count": 14,
     "metadata": {},
     "output_type": "execute_result"
    }
   ],
   "source": [
    "listadomercado2"
   ]
  },
  {
   "cell_type": "markdown",
   "id": "regional-cradle",
   "metadata": {},
   "source": [
    "# Listas de Listas"
   ]
  },
  {
   "cell_type": "code",
   "execution_count": 15,
   "id": "pursuant-possession",
   "metadata": {},
   "outputs": [],
   "source": [
    "listas = [[1,2,3],[11,12,13],[21,22,23,24]]"
   ]
  },
  {
   "cell_type": "code",
   "execution_count": 16,
   "id": "individual-effect",
   "metadata": {},
   "outputs": [
    {
     "name": "stdout",
     "output_type": "stream",
     "text": [
      "[[1, 2, 3], [11, 12, 13], [21, 22, 23, 24]]\n"
     ]
    }
   ],
   "source": [
    "print(listas)"
   ]
  },
  {
   "cell_type": "code",
   "execution_count": 17,
   "id": "adolescent-determination",
   "metadata": {},
   "outputs": [],
   "source": [
    "lista1 = listas[0]"
   ]
  },
  {
   "cell_type": "code",
   "execution_count": 19,
   "id": "pressing-nicaragua",
   "metadata": {},
   "outputs": [
    {
     "name": "stdout",
     "output_type": "stream",
     "text": [
      "[1, 2, 3]\n"
     ]
    }
   ],
   "source": [
    "print(lista1)"
   ]
  },
  {
   "cell_type": "code",
   "execution_count": 20,
   "id": "explicit-invitation",
   "metadata": {},
   "outputs": [],
   "source": [
    "item1 = lista1[0]"
   ]
  },
  {
   "cell_type": "code",
   "execution_count": 21,
   "id": "metropolitan-gambling",
   "metadata": {},
   "outputs": [
    {
     "name": "stdout",
     "output_type": "stream",
     "text": [
      "1\n"
     ]
    }
   ],
   "source": [
    "print(item1)"
   ]
  },
  {
   "cell_type": "code",
   "execution_count": 22,
   "id": "infinite-surgeon",
   "metadata": {},
   "outputs": [
    {
     "name": "stdout",
     "output_type": "stream",
     "text": [
      "13\n"
     ]
    }
   ],
   "source": [
    "print(listas[1][2])"
   ]
  },
  {
   "cell_type": "code",
   "execution_count": 23,
   "id": "induced-happiness",
   "metadata": {},
   "outputs": [],
   "source": [
    "c = listas[2][3]+2"
   ]
  },
  {
   "cell_type": "code",
   "execution_count": 24,
   "id": "public-spyware",
   "metadata": {},
   "outputs": [
    {
     "name": "stdout",
     "output_type": "stream",
     "text": [
      "26\n"
     ]
    }
   ],
   "source": [
    "print(c)"
   ]
  },
  {
   "cell_type": "markdown",
   "id": "traditional-pottery",
   "metadata": {},
   "source": [
    "Concatenar Listas"
   ]
  },
  {
   "cell_type": "code",
   "execution_count": 25,
   "id": "informational-diabetes",
   "metadata": {},
   "outputs": [],
   "source": [
    "lista_s1 = [10,20,30]"
   ]
  },
  {
   "cell_type": "code",
   "execution_count": 27,
   "id": "detailed-context",
   "metadata": {},
   "outputs": [],
   "source": [
    "lista_s2 = [5,15,25]"
   ]
  },
  {
   "cell_type": "code",
   "execution_count": 28,
   "id": "unexpected-robert",
   "metadata": {},
   "outputs": [],
   "source": [
    "#concatenando listas\n",
    "lista_st = lista_s1 + lista_s2"
   ]
  },
  {
   "cell_type": "code",
   "execution_count": 29,
   "id": "parallel-flashing",
   "metadata": {},
   "outputs": [
    {
     "name": "stdout",
     "output_type": "stream",
     "text": [
      "[10, 20, 30, 5, 15, 25]\n"
     ]
    }
   ],
   "source": [
    "print(lista_st)"
   ]
  },
  {
   "cell_type": "markdown",
   "id": "accomplished-intranet",
   "metadata": {},
   "source": [
    "Operador In"
   ]
  },
  {
   "cell_type": "code",
   "execution_count": 3,
   "id": "intended-automation",
   "metadata": {},
   "outputs": [],
   "source": [
    "#criando uma lista\n",
    "lista_teste_op = [100,2,-5,3.4]"
   ]
  },
  {
   "cell_type": "code",
   "execution_count": 4,
   "id": "expressed-newport",
   "metadata": {},
   "outputs": [
    {
     "name": "stdout",
     "output_type": "stream",
     "text": [
      "False\n"
     ]
    }
   ],
   "source": [
    "#verificando se 10 existe na lista\n",
    "print(10 in lista_teste_op)"
   ]
  },
  {
   "cell_type": "code",
   "execution_count": 5,
   "id": "liberal-gibraltar",
   "metadata": {},
   "outputs": [
    {
     "name": "stdout",
     "output_type": "stream",
     "text": [
      "True\n"
     ]
    }
   ],
   "source": [
    "print(100 in lista_teste_op)"
   ]
  },
  {
   "cell_type": "markdown",
   "id": "homeless-cartoon",
   "metadata": {},
   "source": [
    "Funções built-in"
   ]
  },
  {
   "cell_type": "code",
   "execution_count": 6,
   "id": "informed-yield",
   "metadata": {},
   "outputs": [
    {
     "data": {
      "text/plain": [
       "4"
      ]
     },
     "execution_count": 6,
     "metadata": {},
     "output_type": "execute_result"
    }
   ],
   "source": [
    "#função len() retorna o comprimento da lista\n",
    "len(lista_teste_op)"
   ]
  },
  {
   "cell_type": "code",
   "execution_count": 34,
   "id": "satisfied-universal",
   "metadata": {},
   "outputs": [
    {
     "data": {
      "text/plain": [
       "100"
      ]
     },
     "execution_count": 34,
     "metadata": {},
     "output_type": "execute_result"
    }
   ],
   "source": [
    "#função max() retorna o valor maximo da lista\n",
    "max(lista_teste_op)"
   ]
  },
  {
   "cell_type": "code",
   "execution_count": 35,
   "id": "wireless-decision",
   "metadata": {},
   "outputs": [
    {
     "data": {
      "text/plain": [
       "-5"
      ]
     },
     "execution_count": 35,
     "metadata": {},
     "output_type": "execute_result"
    }
   ],
   "source": [
    "#função min() retorna o valor minimo da lista\n",
    "min(lista_teste_op)"
   ]
  },
  {
   "cell_type": "code",
   "execution_count": 36,
   "id": "driving-rental",
   "metadata": {},
   "outputs": [],
   "source": [
    "listadomercado2 = ['ovos','farinha','leite','maças']"
   ]
  },
  {
   "cell_type": "code",
   "execution_count": 37,
   "id": "focal-transsexual",
   "metadata": {},
   "outputs": [],
   "source": [
    "#append adiciona um item na lista\n",
    "listadomercado2.append(\"carne\")"
   ]
  },
  {
   "cell_type": "code",
   "execution_count": 38,
   "id": "alpine-corps",
   "metadata": {},
   "outputs": [
    {
     "name": "stdout",
     "output_type": "stream",
     "text": [
      "['ovos', 'farinha', 'leite', 'maças', 'carne']\n"
     ]
    }
   ],
   "source": [
    "print(listadomercado2)"
   ]
  },
  {
   "cell_type": "code",
   "execution_count": 40,
   "id": "personalized-magnitude",
   "metadata": {},
   "outputs": [
    {
     "data": {
      "text/plain": [
       "1"
      ]
     },
     "execution_count": 40,
     "metadata": {},
     "output_type": "execute_result"
    }
   ],
   "source": [
    "#Count verifica a quantidade de elementos\n",
    "listadomercado2.count(\"carne\")"
   ]
  },
  {
   "cell_type": "code",
   "execution_count": 41,
   "id": "executive-explorer",
   "metadata": {},
   "outputs": [],
   "source": [
    "#criando uma lista vazia\n",
    "a = []"
   ]
  },
  {
   "cell_type": "code",
   "execution_count": 42,
   "id": "growing-source",
   "metadata": {},
   "outputs": [
    {
     "name": "stdout",
     "output_type": "stream",
     "text": [
      "[]\n"
     ]
    }
   ],
   "source": [
    "print(a)"
   ]
  },
  {
   "cell_type": "code",
   "execution_count": 43,
   "id": "protective-federal",
   "metadata": {},
   "outputs": [
    {
     "data": {
      "text/plain": [
       "list"
      ]
     },
     "execution_count": 43,
     "metadata": {},
     "output_type": "execute_result"
    }
   ],
   "source": [
    "type(a)"
   ]
  },
  {
   "cell_type": "code",
   "execution_count": 44,
   "id": "traditional-saturn",
   "metadata": {},
   "outputs": [],
   "source": [
    "a.append(10)"
   ]
  },
  {
   "cell_type": "code",
   "execution_count": 45,
   "id": "adequate-identification",
   "metadata": {},
   "outputs": [
    {
     "data": {
      "text/plain": [
       "[10]"
      ]
     },
     "execution_count": 45,
     "metadata": {},
     "output_type": "execute_result"
    }
   ],
   "source": [
    "a"
   ]
  },
  {
   "cell_type": "code",
   "execution_count": 46,
   "id": "toxic-recording",
   "metadata": {},
   "outputs": [],
   "source": [
    "old_list = [12,14,16]"
   ]
  },
  {
   "cell_type": "code",
   "execution_count": 47,
   "id": "brave-pollution",
   "metadata": {},
   "outputs": [],
   "source": [
    "new_list = []"
   ]
  },
  {
   "cell_type": "code",
   "execution_count": 48,
   "id": "graduate-estimate",
   "metadata": {},
   "outputs": [],
   "source": [
    "#copiando itens de uma lista para outra\n",
    "for item in old_list:\n",
    "    new_list.append(item)"
   ]
  },
  {
   "cell_type": "code",
   "execution_count": 49,
   "id": "reflected-spring",
   "metadata": {},
   "outputs": [
    {
     "data": {
      "text/plain": [
       "[12, 14, 16]"
      ]
     },
     "execution_count": 49,
     "metadata": {},
     "output_type": "execute_result"
    }
   ],
   "source": [
    "new_list"
   ]
  },
  {
   "cell_type": "code",
   "execution_count": 51,
   "id": "external-phoenix",
   "metadata": {},
   "outputs": [
    {
     "name": "stdout",
     "output_type": "stream",
     "text": [
      "['Recife', 'Manaus', 'Salvador', 'Fortaleza', 'Palmas']\n"
     ]
    }
   ],
   "source": [
    "cidades = ['Recife','Manaus','Salvador']\n",
    "cidades.extend(['Fortaleza','Palmas'])\n",
    "print(cidades)"
   ]
  },
  {
   "cell_type": "code",
   "execution_count": 52,
   "id": "changed-worship",
   "metadata": {},
   "outputs": [
    {
     "data": {
      "text/plain": [
       "2"
      ]
     },
     "execution_count": 52,
     "metadata": {},
     "output_type": "execute_result"
    }
   ],
   "source": [
    "cidades.index('Salvador')"
   ]
  },
  {
   "cell_type": "code",
   "execution_count": 53,
   "id": "atlantic-platform",
   "metadata": {},
   "outputs": [],
   "source": [
    "cidades.insert(2,110)"
   ]
  },
  {
   "cell_type": "code",
   "execution_count": 54,
   "id": "closed-ethiopia",
   "metadata": {},
   "outputs": [
    {
     "name": "stdout",
     "output_type": "stream",
     "text": [
      "['Recife', 'Manaus', 110, 'Salvador', 'Fortaleza', 'Palmas']\n"
     ]
    }
   ],
   "source": [
    "print(cidades)"
   ]
  },
  {
   "cell_type": "code",
   "execution_count": 55,
   "id": "beautiful-telescope",
   "metadata": {},
   "outputs": [],
   "source": [
    "#remove um item da lista\n",
    "cidades.remove(110)"
   ]
  },
  {
   "cell_type": "code",
   "execution_count": 56,
   "id": "buried-graphics",
   "metadata": {},
   "outputs": [
    {
     "name": "stdout",
     "output_type": "stream",
     "text": [
      "['Recife', 'Manaus', 'Salvador', 'Fortaleza', 'Palmas']\n"
     ]
    }
   ],
   "source": [
    "print(cidades)"
   ]
  },
  {
   "cell_type": "code",
   "execution_count": 57,
   "id": "commercial-capital",
   "metadata": {},
   "outputs": [],
   "source": [
    "#reverte a lista\n",
    "cidades.reverse()"
   ]
  },
  {
   "cell_type": "code",
   "execution_count": 58,
   "id": "advised-frame",
   "metadata": {},
   "outputs": [
    {
     "name": "stdout",
     "output_type": "stream",
     "text": [
      "['Palmas', 'Fortaleza', 'Salvador', 'Manaus', 'Recife']\n"
     ]
    }
   ],
   "source": [
    "print(cidades)"
   ]
  },
  {
   "cell_type": "code",
   "execution_count": 59,
   "id": "complete-implementation",
   "metadata": {},
   "outputs": [],
   "source": [
    "x = [16,7,18,3]"
   ]
  },
  {
   "cell_type": "code",
   "execution_count": 60,
   "id": "revised-bridges",
   "metadata": {},
   "outputs": [
    {
     "data": {
      "text/plain": [
       "[16, 7, 18, 3]"
      ]
     },
     "execution_count": 60,
     "metadata": {},
     "output_type": "execute_result"
    }
   ],
   "source": [
    "x"
   ]
  },
  {
   "cell_type": "code",
   "execution_count": 61,
   "id": "nutritional-instrument",
   "metadata": {},
   "outputs": [],
   "source": [
    "#ordena\n",
    "x.sort()"
   ]
  },
  {
   "cell_type": "code",
   "execution_count": 62,
   "id": "relative-internet",
   "metadata": {},
   "outputs": [
    {
     "name": "stdout",
     "output_type": "stream",
     "text": [
      "[3, 7, 16, 18]\n"
     ]
    }
   ],
   "source": [
    "print(x)"
   ]
  }
 ],
 "metadata": {
  "kernelspec": {
   "display_name": "Python 3",
   "language": "python",
   "name": "python3"
  },
  "language_info": {
   "codemirror_mode": {
    "name": "ipython",
    "version": 3
   },
   "file_extension": ".py",
   "mimetype": "text/x-python",
   "name": "python",
   "nbconvert_exporter": "python",
   "pygments_lexer": "ipython3",
   "version": "3.8.5"
  }
 },
 "nbformat": 4,
 "nbformat_minor": 5
}
