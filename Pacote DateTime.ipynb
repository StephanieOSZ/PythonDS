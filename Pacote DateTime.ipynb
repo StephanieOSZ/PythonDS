{
 "cells": [
  {
   "cell_type": "markdown",
   "id": "practical-andrew",
   "metadata": {},
   "source": [
    "# Datetime"
   ]
  },
  {
   "cell_type": "code",
   "execution_count": 1,
   "id": "impossible-chester",
   "metadata": {},
   "outputs": [],
   "source": [
    "import datetime"
   ]
  },
  {
   "cell_type": "code",
   "execution_count": 2,
   "id": "amazing-settlement",
   "metadata": {},
   "outputs": [],
   "source": [
    "#Pacote:Modulo:Função\n",
    "agora = datetime.datetime.now()"
   ]
  },
  {
   "cell_type": "code",
   "execution_count": 3,
   "id": "executive-driving",
   "metadata": {},
   "outputs": [
    {
     "data": {
      "text/plain": [
       "datetime.datetime(2021, 1, 23, 20, 16, 52, 52727)"
      ]
     },
     "execution_count": 3,
     "metadata": {},
     "output_type": "execute_result"
    }
   ],
   "source": [
    "agora"
   ]
  },
  {
   "cell_type": "code",
   "execution_count": 4,
   "id": "fossil-installation",
   "metadata": {},
   "outputs": [],
   "source": [
    "#Criando tempo\n",
    "t = datetime.time(7,43,28)"
   ]
  },
  {
   "cell_type": "code",
   "execution_count": 5,
   "id": "loving-projector",
   "metadata": {},
   "outputs": [
    {
     "name": "stdout",
     "output_type": "stream",
     "text": [
      "07:43:28\n"
     ]
    }
   ],
   "source": [
    "print(t)"
   ]
  },
  {
   "cell_type": "code",
   "execution_count": 6,
   "id": "manufactured-assignment",
   "metadata": {},
   "outputs": [
    {
     "name": "stdout",
     "output_type": "stream",
     "text": [
      "Hora:  7\n",
      "Minuto:  43\n",
      "Segundo:  28\n",
      "Microsegundo:  0\n"
     ]
    }
   ],
   "source": [
    "print('Hora: ',t.hour)\n",
    "print('Minuto: ',t.minute)\n",
    "print('Segundo: ',t.second)\n",
    "print('Microsegundo: ',t.microsecond)"
   ]
  },
  {
   "cell_type": "code",
   "execution_count": 7,
   "id": "innocent-charles",
   "metadata": {},
   "outputs": [
    {
     "name": "stdout",
     "output_type": "stream",
     "text": [
      "00:00:00\n"
     ]
    }
   ],
   "source": [
    "print(datetime.time.min)"
   ]
  },
  {
   "cell_type": "code",
   "execution_count": 10,
   "id": "completed-relation",
   "metadata": {},
   "outputs": [],
   "source": [
    "hoje = datetime.date.today()"
   ]
  },
  {
   "cell_type": "code",
   "execution_count": 13,
   "id": "alpine-melbourne",
   "metadata": {},
   "outputs": [
    {
     "name": "stdout",
     "output_type": "stream",
     "text": [
      "2021-01-23\n",
      "ctime:  Sat Jan 23 00:00:00 2021\n",
      "ano:  2021\n",
      "mes:  1\n",
      "dia:  23\n"
     ]
    }
   ],
   "source": [
    "print(hoje)\n",
    "print('ctime: ',hoje.ctime())\n",
    "print('ano: ',hoje.year)\n",
    "print('mes: ',hoje.month)\n",
    "print('dia: ',hoje.day)"
   ]
  },
  {
   "cell_type": "code",
   "execution_count": 16,
   "id": "supreme-arizona",
   "metadata": {},
   "outputs": [
    {
     "name": "stdout",
     "output_type": "stream",
     "text": [
      "d1 : 2015-04-28\n"
     ]
    }
   ],
   "source": [
    "d1 = datetime.date(2015,4,28)\n",
    "print('d1 :',d1)"
   ]
  },
  {
   "cell_type": "code",
   "execution_count": 17,
   "id": "photographic-renaissance",
   "metadata": {},
   "outputs": [
    {
     "name": "stdout",
     "output_type": "stream",
     "text": [
      "d2:  2016-04-28\n"
     ]
    }
   ],
   "source": [
    "d2 = d1.replace(year=2016)\n",
    "print('d2: ',d2)"
   ]
  },
  {
   "cell_type": "code",
   "execution_count": 18,
   "id": "resistant-silicon",
   "metadata": {},
   "outputs": [
    {
     "data": {
      "text/plain": [
       "datetime.timedelta(days=366)"
      ]
     },
     "execution_count": 18,
     "metadata": {},
     "output_type": "execute_result"
    }
   ],
   "source": [
    "#Diferença entre duas datas\n",
    "d2-d1"
   ]
  }
 ],
 "metadata": {
  "kernelspec": {
   "display_name": "Python 3",
   "language": "python",
   "name": "python3"
  },
  "language_info": {
   "codemirror_mode": {
    "name": "ipython",
    "version": 3
   },
   "file_extension": ".py",
   "mimetype": "text/x-python",
   "name": "python",
   "nbconvert_exporter": "python",
   "pygments_lexer": "ipython3",
   "version": "3.8.5"
  }
 },
 "nbformat": 4,
 "nbformat_minor": 5
}
