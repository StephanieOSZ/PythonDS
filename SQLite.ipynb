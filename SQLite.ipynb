{
 "cells": [
  {
   "cell_type": "markdown",
   "id": "southern-reproduction",
   "metadata": {},
   "source": [
    "# SQLite"
   ]
  },
  {
   "cell_type": "markdown",
   "id": "increased-setting",
   "metadata": {},
   "source": [
    "-Versão simplificada de um banco SQL\n",
    "\n",
    "-Não requer um processo servidor dedicado\n",
    "\n",
    "-Um banco de dados SQLite completo é armazenado em um único arquivo multiplataforma.\n",
    "\n",
    "-SQLite é pequeno e leve, menos de 400 KB quando totalmente configurado\n",
    "\n",
    "-Carrega em memória somente o que vai ser utilizado\n",
    "\n",
    "-OpenSource\n",
    "\n",
    "-Dica de mini framework: SQLite Browser"
   ]
  },
  {
   "cell_type": "markdown",
   "id": "external-literature",
   "metadata": {},
   "source": [
    "### Explorando dados com SQLite"
   ]
  },
  {
   "cell_type": "code",
   "execution_count": 1,
   "id": "communist-vintage",
   "metadata": {},
   "outputs": [],
   "source": [
    "import sqlite3"
   ]
  },
  {
   "cell_type": "code",
   "execution_count": 3,
   "id": "cordless-confirmation",
   "metadata": {},
   "outputs": [],
   "source": [
    "#Reescreve o arquivo com o banco de dados SQLite (caso exista)\n",
    "import os\n",
    "os.remove('escola.db') if os.path.exists('escola.db') else None"
   ]
  },
  {
   "cell_type": "code",
   "execution_count": 4,
   "id": "level-distinction",
   "metadata": {},
   "outputs": [],
   "source": [
    "#Cria uma conexão com o banco de dados.\n",
    "#Se o banco de dados não existir, ele é criado neste momento\n",
    "con = sqlite3.connect('escola.db')"
   ]
  },
  {
   "cell_type": "code",
   "execution_count": 5,
   "id": "polished-mileage",
   "metadata": {},
   "outputs": [
    {
     "data": {
      "text/plain": [
       "sqlite3.Connection"
      ]
     },
     "execution_count": 5,
     "metadata": {},
     "output_type": "execute_result"
    }
   ],
   "source": [
    "type(con)"
   ]
  },
  {
   "cell_type": "code",
   "execution_count": 6,
   "id": "systematic-information",
   "metadata": {},
   "outputs": [],
   "source": [
    "#Criando um cursor\n",
    "#(Um cursor permite percorrer todos os registros em umconjunto de dados)\n",
    "cur = con.cursor()"
   ]
  },
  {
   "cell_type": "code",
   "execution_count": 7,
   "id": "israeli-petroleum",
   "metadata": {},
   "outputs": [
    {
     "data": {
      "text/plain": [
       "sqlite3.Cursor"
      ]
     },
     "execution_count": 7,
     "metadata": {},
     "output_type": "execute_result"
    }
   ],
   "source": [
    "type(cur)"
   ]
  },
  {
   "cell_type": "code",
   "execution_count": 8,
   "id": "romance-plaintiff",
   "metadata": {},
   "outputs": [],
   "source": [
    "#Cria uma instrução sql\n",
    "sql_create = 'create table cursos '\\\n",
    "'(id integer primary key, '\\\n",
    "'titulo varchar(100), '\\\n",
    "'categoria varchar(140))'"
   ]
  },
  {
   "cell_type": "code",
   "execution_count": 9,
   "id": "living-crest",
   "metadata": {},
   "outputs": [
    {
     "data": {
      "text/plain": [
       "<sqlite3.Cursor at 0x7fe01424e420>"
      ]
     },
     "execution_count": 9,
     "metadata": {},
     "output_type": "execute_result"
    }
   ],
   "source": [
    "#Executando a instrução sql no cursor\n",
    "cur.execute(sql_create)"
   ]
  },
  {
   "cell_type": "code",
   "execution_count": 13,
   "id": "romance-placement",
   "metadata": {},
   "outputs": [],
   "source": [
    "#Executando outra sentença SQL para inserir registros\n",
    "sql_insert = 'insert into cursos values (?,?,?)'"
   ]
  },
  {
   "cell_type": "code",
   "execution_count": 14,
   "id": "acquired-poker",
   "metadata": {},
   "outputs": [],
   "source": [
    "#Dados \n",
    "recset = [(1000,'Ciencia de Dados','Data Science'),\n",
    "          (1001,'Big Data Fundamentos','Big Data'),\n",
    "          (1002,'Python Fundamentos','Analise de Dados')]"
   ]
  },
  {
   "cell_type": "code",
   "execution_count": 15,
   "id": "bigger-requirement",
   "metadata": {},
   "outputs": [],
   "source": [
    "#inserindo os registros\n",
    "for rec in recset:\n",
    "    cur.execute(sql_insert,rec)"
   ]
  },
  {
   "cell_type": "code",
   "execution_count": 17,
   "id": "surface-maple",
   "metadata": {},
   "outputs": [],
   "source": [
    "#Grava a transação\n",
    "con.commit()"
   ]
  },
  {
   "cell_type": "code",
   "execution_count": 19,
   "id": "essential-treat",
   "metadata": {},
   "outputs": [],
   "source": [
    "#criando outra sentençaSQL para selecionar registros\n",
    "sql_select = 'select * from cursos'"
   ]
  },
  {
   "cell_type": "code",
   "execution_count": 20,
   "id": "allied-adventure",
   "metadata": {},
   "outputs": [],
   "source": [
    "cur.execute(sql_select)\n",
    "dados = cur.fetchall()"
   ]
  },
  {
   "cell_type": "code",
   "execution_count": 21,
   "id": "combined-logan",
   "metadata": {},
   "outputs": [
    {
     "name": "stdout",
     "output_type": "stream",
     "text": [
      "(1000, 'Ciencia de Dados', 'Data Science')\n",
      "(1001, 'Big Data Fundamentos', 'Big Data')\n",
      "(1002, 'Python Fundamentos', 'Analise de Dados')\n"
     ]
    }
   ],
   "source": [
    "#Mostra\n",
    "for linha in dados:\n",
    "    print(linha)"
   ]
  },
  {
   "cell_type": "code",
   "execution_count": 24,
   "id": "satellite-coach",
   "metadata": {},
   "outputs": [],
   "source": [
    "#Gerando outros registros\n",
    "recset = [(1003,'Gestão de Dados com MongoDB','Big Data'),\n",
    "          (1004,'R Fundamentos','Analise de Dados')]\n",
    "\n",
    "#Inserindo os registros\n",
    "for rec in recset:\n",
    "    con.execute(sql_insert,rec)\n",
    "\n",
    "#Gravando a transação\n",
    "con.commit()"
   ]
  },
  {
   "cell_type": "code",
   "execution_count": 25,
   "id": "monthly-magazine",
   "metadata": {},
   "outputs": [
    {
     "data": {
      "text/plain": [
       "<sqlite3.Cursor at 0x7fe01424e420>"
      ]
     },
     "execution_count": 25,
     "metadata": {},
     "output_type": "execute_result"
    }
   ],
   "source": [
    "#seleciona todos os registros\n",
    "cur.execute('select * from cursos')"
   ]
  },
  {
   "cell_type": "code",
   "execution_count": 26,
   "id": "elect-hanging",
   "metadata": {},
   "outputs": [],
   "source": [
    "recset = cur.fetchall()"
   ]
  },
  {
   "cell_type": "code",
   "execution_count": 27,
   "id": "played-fleece",
   "metadata": {},
   "outputs": [
    {
     "name": "stdout",
     "output_type": "stream",
     "text": [
      "(1000, 'Ciencia de Dados', 'Data Science')\n",
      "(1001, 'Big Data Fundamentos', 'Big Data')\n",
      "(1002, 'Python Fundamentos', 'Analise de Dados')\n",
      "(1003, 'Gestão de Dados com MongoDB', 'Big Data')\n",
      "(1004, 'R Fundamentos', 'Analise de Dados')\n"
     ]
    }
   ],
   "source": [
    "for rec in recset:\n",
    "    print(rec)"
   ]
  },
  {
   "cell_type": "code",
   "execution_count": 28,
   "id": "meaning-validity",
   "metadata": {},
   "outputs": [],
   "source": [
    "#fecha conexão\n",
    "con.close()"
   ]
  }
 ],
 "metadata": {
  "kernelspec": {
   "display_name": "Python 3",
   "language": "python",
   "name": "python3"
  },
  "language_info": {
   "codemirror_mode": {
    "name": "ipython",
    "version": 3
   },
   "file_extension": ".py",
   "mimetype": "text/x-python",
   "name": "python",
   "nbconvert_exporter": "python",
   "pygments_lexer": "ipython3",
   "version": "3.8.5"
  }
 },
 "nbformat": 4,
 "nbformat_minor": 5
}
