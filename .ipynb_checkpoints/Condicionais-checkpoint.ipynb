{
 "cells": [
  {
   "cell_type": "markdown",
   "id": "established-approval",
   "metadata": {},
   "source": [
    "# Condicionais"
   ]
  },
  {
   "cell_type": "code",
   "execution_count": 1,
   "id": "suburban-conditioning",
   "metadata": {},
   "outputs": [
    {
     "name": "stdout",
     "output_type": "stream",
     "text": [
      "Funciona!\n"
     ]
    }
   ],
   "source": [
    "#condicional if\n",
    "if 5 > 2:\n",
    "    print(\"Funciona!\")"
   ]
  },
  {
   "cell_type": "code",
   "execution_count": 3,
   "id": "informative-sleeping",
   "metadata": {},
   "outputs": [
    {
     "name": "stdout",
     "output_type": "stream",
     "text": [
      "Algo esta errado!\n"
     ]
    }
   ],
   "source": [
    "#Statment if and else\n",
    "if 5 < 2:\n",
    "    print(\"Funciona!\")\n",
    "else:\n",
    "    print(\"Algo esta errado!\")"
   ]
  },
  {
   "cell_type": "code",
   "execution_count": 4,
   "id": "comprehensive-forge",
   "metadata": {},
   "outputs": [
    {
     "name": "stdout",
     "output_type": "stream",
     "text": [
      "Testando Python\n"
     ]
    }
   ],
   "source": [
    "if 5 == 5:\n",
    "    print(\"Testando Python\")"
   ]
  },
  {
   "cell_type": "markdown",
   "id": "incident-thumb",
   "metadata": {},
   "source": [
    "Condicionais Aninhados"
   ]
  },
  {
   "cell_type": "code",
   "execution_count": 5,
   "id": "polished-maple",
   "metadata": {},
   "outputs": [
    {
     "name": "stdout",
     "output_type": "stream",
     "text": [
      "Voce pode dirigir\n"
     ]
    }
   ],
   "source": [
    "idade = 18\n",
    "if idade > 14:\n",
    "    print('Voce pode dirigir')"
   ]
  },
  {
   "cell_type": "code",
   "execution_count": 7,
   "id": "extreme-mentor",
   "metadata": {},
   "outputs": [
    {
     "name": "stdout",
     "output_type": "stream",
     "text": [
      "Voce esta autorizado a entrar\n"
     ]
    }
   ],
   "source": [
    "nome = 'Bob'\n",
    "if idade > 13:\n",
    "    if nome == 'Bob':\n",
    "        print('Voce esta autorizado a entrar')\n",
    "    else:\n",
    "        print('Voce não esta autorizado')\n",
    "    "
   ]
  },
  {
   "cell_type": "code",
   "execution_count": 10,
   "id": "greek-latvia",
   "metadata": {},
   "outputs": [
    {
     "name": "stdout",
     "output_type": "stream",
     "text": [
      "Voce esta autorizado a entrar\n"
     ]
    }
   ],
   "source": [
    "nome = 'Bob'\n",
    "idade = 13\n",
    "if (idade >= 13) and (nome == 'Bob'):\n",
    "    print('Voce esta autorizado a entrar')\n",
    "else:\n",
    "    print('Voce não esta autorizado')"
   ]
  },
  {
   "cell_type": "markdown",
   "id": "greater-guatemala",
   "metadata": {},
   "source": [
    "Elif"
   ]
  },
  {
   "cell_type": "code",
   "execution_count": 11,
   "id": "supreme-technician",
   "metadata": {},
   "outputs": [
    {
     "name": "stdout",
     "output_type": "stream",
     "text": [
      "parabens, voce chegou na maior idade!\n"
     ]
    }
   ],
   "source": [
    "idade = 18\n",
    "if idade < 18:\n",
    "    print('ainda falta maior idade!')\n",
    "elif idade == 18:\n",
    "    print('parabens, voce chegou na maior idade!')\n",
    "else:\n",
    "    print('voce já é maior de idade')"
   ]
  },
  {
   "cell_type": "markdown",
   "id": "relative-hours",
   "metadata": {},
   "source": [
    "Operadores Lógicos"
   ]
  },
  {
   "cell_type": "code",
   "execution_count": 15,
   "id": "deluxe-fellow",
   "metadata": {},
   "outputs": [
    {
     "name": "stdout",
     "output_type": "stream",
     "text": [
      "Digite o nome da disciplina: Geografia\n",
      "Digite a nota final (entre 0 e 100): 80\n",
      "Parabens, voçê foi aprovado em Geografia com a nota 80\n"
     ]
    }
   ],
   "source": [
    "#usando mais de uma condição na clausula if usando placeholder\n",
    "disciplina = input('Digite o nome da disciplina: ')\n",
    "nota_final = input('Digite a nota final (entre 0 e 100): ')\n",
    "\n",
    "if disciplina == 'Geografia' and int(nota_final) >= 70:\n",
    "    print('Parabens, voçê foi aprovado em %s com a nota %r'%(disciplina,int(nota_final)))\n",
    "else:\n",
    "    print('lamento, precisa estuda mais')"
   ]
  }
 ],
 "metadata": {
  "kernelspec": {
   "display_name": "Python 3",
   "language": "python",
   "name": "python3"
  },
  "language_info": {
   "codemirror_mode": {
    "name": "ipython",
    "version": 3
   },
   "file_extension": ".py",
   "mimetype": "text/x-python",
   "name": "python",
   "nbconvert_exporter": "python",
   "pygments_lexer": "ipython3",
   "version": "3.8.5"
  }
 },
 "nbformat": 4,
 "nbformat_minor": 5
}
