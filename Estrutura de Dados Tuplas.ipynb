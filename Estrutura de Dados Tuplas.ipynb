{
 "cells": [
  {
   "cell_type": "markdown",
   "id": "forbidden-formula",
   "metadata": {},
   "source": [
    "# Tuplas"
   ]
  },
  {
   "cell_type": "markdown",
   "id": "northern-depression",
   "metadata": {},
   "source": [
    "Tuplas são semelhantes a Listas, porém são imutáveis."
   ]
  },
  {
   "cell_type": "code",
   "execution_count": 1,
   "id": "beneficial-baseline",
   "metadata": {},
   "outputs": [],
   "source": [
    "#Criando uma tupla\n",
    "tupla1 = (\"Geografia\",23,\"Elefantes\")"
   ]
  },
  {
   "cell_type": "code",
   "execution_count": 2,
   "id": "celtic-vermont",
   "metadata": {},
   "outputs": [
    {
     "data": {
      "text/plain": [
       "('Geografia', 23, 'Elefantes')"
      ]
     },
     "execution_count": 2,
     "metadata": {},
     "output_type": "execute_result"
    }
   ],
   "source": [
    "tupla1"
   ]
  },
  {
   "cell_type": "markdown",
   "id": "occupied-information",
   "metadata": {},
   "source": [
    "Tuplas não suportam append\n",
    "\n",
    "Tuplas não suportam delete de um objeto especifico."
   ]
  },
  {
   "cell_type": "code",
   "execution_count": 3,
   "id": "sudden-grant",
   "metadata": {},
   "outputs": [
    {
     "data": {
      "text/plain": [
       "'Geografia'"
      ]
     },
     "execution_count": 3,
     "metadata": {},
     "output_type": "execute_result"
    }
   ],
   "source": [
    "tupla1[0]"
   ]
  },
  {
   "cell_type": "code",
   "execution_count": 4,
   "id": "alternate-arena",
   "metadata": {},
   "outputs": [
    {
     "data": {
      "text/plain": [
       "3"
      ]
     },
     "execution_count": 4,
     "metadata": {},
     "output_type": "execute_result"
    }
   ],
   "source": [
    "#verifica o comprimento de uma tupla\n",
    "len(tupla1)"
   ]
  },
  {
   "cell_type": "code",
   "execution_count": 5,
   "id": "exclusive-toner",
   "metadata": {},
   "outputs": [
    {
     "data": {
      "text/plain": [
       "('Geografia',)"
      ]
     },
     "execution_count": 5,
     "metadata": {},
     "output_type": "execute_result"
    }
   ],
   "source": [
    "#slicing da mesma forma que faz com listas\n",
    "tupla1[:1]"
   ]
  },
  {
   "cell_type": "code",
   "execution_count": 6,
   "id": "informed-keyboard",
   "metadata": {},
   "outputs": [],
   "source": [
    "#deletando a tupla\n",
    "del tupla1"
   ]
  },
  {
   "cell_type": "code",
   "execution_count": 7,
   "id": "concerned-completion",
   "metadata": {},
   "outputs": [],
   "source": [
    "#criando uma tupla\n",
    "t2 = ('A','B','C')"
   ]
  },
  {
   "cell_type": "code",
   "execution_count": 8,
   "id": "adult-minimum",
   "metadata": {},
   "outputs": [
    {
     "data": {
      "text/plain": [
       "('A', 'B', 'C')"
      ]
     },
     "execution_count": 8,
     "metadata": {},
     "output_type": "execute_result"
    }
   ],
   "source": [
    "t2"
   ]
  },
  {
   "cell_type": "code",
   "execution_count": 10,
   "id": "reported-heavy",
   "metadata": {},
   "outputs": [],
   "source": [
    "#Tuplas não suportam atribuição de dados\n",
    "#t2[0] = 1"
   ]
  },
  {
   "cell_type": "code",
   "execution_count": 11,
   "id": "european-korean",
   "metadata": {},
   "outputs": [],
   "source": [
    "lista_t2 = list(t2)"
   ]
  },
  {
   "cell_type": "code",
   "execution_count": 12,
   "id": "spanish-struggle",
   "metadata": {},
   "outputs": [
    {
     "data": {
      "text/plain": [
       "['A', 'B', 'C']"
      ]
     },
     "execution_count": 12,
     "metadata": {},
     "output_type": "execute_result"
    }
   ],
   "source": [
    "lista_t2"
   ]
  },
  {
   "cell_type": "code",
   "execution_count": 13,
   "id": "special-search",
   "metadata": {},
   "outputs": [],
   "source": [
    "lista_t2.append(\"D\")"
   ]
  },
  {
   "cell_type": "code",
   "execution_count": 14,
   "id": "baking-tower",
   "metadata": {},
   "outputs": [],
   "source": [
    "t2 = tuple(lista_t2)"
   ]
  },
  {
   "cell_type": "code",
   "execution_count": 15,
   "id": "protected-federation",
   "metadata": {},
   "outputs": [
    {
     "data": {
      "text/plain": [
       "('A', 'B', 'C', 'D')"
      ]
     },
     "execution_count": 15,
     "metadata": {},
     "output_type": "execute_result"
    }
   ],
   "source": [
    "t2"
   ]
  }
 ],
 "metadata": {
  "kernelspec": {
   "display_name": "Python 3",
   "language": "python",
   "name": "python3"
  },
  "language_info": {
   "codemirror_mode": {
    "name": "ipython",
    "version": 3
   },
   "file_extension": ".py",
   "mimetype": "text/x-python",
   "name": "python",
   "nbconvert_exporter": "python",
   "pygments_lexer": "ipython3",
   "version": "3.8.5"
  }
 },
 "nbformat": 4,
 "nbformat_minor": 5
}
