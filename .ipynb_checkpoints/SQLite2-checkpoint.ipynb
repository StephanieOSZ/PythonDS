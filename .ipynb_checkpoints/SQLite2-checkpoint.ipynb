{
 "cells": [
  {
   "cell_type": "markdown",
   "id": "steady-corner",
   "metadata": {},
   "source": [
    "# Criando o Banco de Dados e Inserindo Dados"
   ]
  },
  {
   "cell_type": "code",
   "execution_count": 1,
   "id": "burning-swing",
   "metadata": {},
   "outputs": [],
   "source": [
    "#Reescreve o arquivo com o banco de dados SQLite (caso exista)\n",
    "import os\n",
    "os.remove('dsa.db') if os.path.exists('dsa.db') else None"
   ]
  },
  {
   "cell_type": "code",
   "execution_count": 4,
   "id": "prerequisite-columbia",
   "metadata": {},
   "outputs": [],
   "source": [
    "import sqlite3\n",
    "\n",
    "#criando uma conexão\n",
    "conn = sqlite3.connect('dsa.db')\n",
    "\n",
    "#criando um cursos\n",
    "c = conn.cursor()\n",
    "\n",
    "#Função para criar uma tabela\n",
    "def create_table():\n",
    "    c.execute('CREATE TABLE IF NOT EXISTS produtos (id INTEGER PRIMARY KEY AUTOINCREMENT NOT NULL, '\\\n",
    "              'date TEXT, prod_name TEXT, valor REAL)')\n",
    "\n",
    "#Função para inserir dados\n",
    "def data_insert():\n",
    "    c.execute('INSERT INTO produtos VALUES (10,\"2021-01-27 14:22:00\",\"Teclado\",90)')\n",
    "    conn.commit()\n",
    "    conn.close()"
   ]
  },
  {
   "cell_type": "code",
   "execution_count": 5,
   "id": "formal-september",
   "metadata": {},
   "outputs": [],
   "source": [
    "create_table()"
   ]
  },
  {
   "cell_type": "code",
   "execution_count": 6,
   "id": "formal-collar",
   "metadata": {},
   "outputs": [],
   "source": [
    "data_insert()"
   ]
  },
  {
   "cell_type": "markdown",
   "id": "dried-austria",
   "metadata": {},
   "source": [
    "### Leitura de Dados"
   ]
  },
  {
   "cell_type": "code",
   "execution_count": 27,
   "id": "forward-crystal",
   "metadata": {},
   "outputs": [],
   "source": [
    "import sqlite3\n",
    "import random\n",
    "import time\n",
    "import datetime\n",
    "\n",
    "#criando uma conexão\n",
    "conn = sqlite3.connect('dsa.db')\n",
    "\n",
    "#criando um cursos\n",
    "c = conn.cursor()\n",
    "\n",
    "#Função para criar uma tabela\n",
    "def create_table():\n",
    "    c.execute('CREATE TABLE IF NOT EXISTS produtos (id INTEGER PRIMARY KEY AUTOINCREMENT NOT NULL, '\\\n",
    "              'date TEXT, prod_name TEXT, valor REAL)')\n",
    "\n",
    "#Função para inserir dados\n",
    "def data_insert():\n",
    "    c.execute('INSERT INTO produtos VALUES (11,\"2021-01-28 14:22:00\",\"Mouse\",90)')\n",
    "    conn.commit()\n",
    "    \n",
    "#Usando variaveis para inserir dados\n",
    "def data_insert_var():\n",
    "    new_date = datetime.datetime.now()\n",
    "    new_prod_name = 'Monitor'\n",
    "    new_valor = random.randrange(50,100)\n",
    "    c.execute('INSERT INTO produtos (date,prod_name,valor) VALUES (?,?,?)',(new_date,new_prod_name,new_valor))\n",
    "    conn.commit()\n",
    "\n",
    "#Leitura dos Dados\n",
    "def leitura_todos_dados():\n",
    "    c.execute('SELECT * FROM produtos')\n",
    "    for linha in c.fetchall():\n",
    "        print(linha)\n",
    "        \n",
    "#Leitura de registros especificos\n",
    "def leitura_registros():\n",
    "    c.execute('SELECT * FROM produtos WHERE valor > 60.0')\n",
    "    for linha in c.fetchall():\n",
    "        print(linha)\n",
    "        \n",
    "#Leitura de colunas especificos\n",
    "def leitura_colunas():\n",
    "    c.execute('SELECT * FROM produtos')\n",
    "    for linha in c.fetchall():\n",
    "        print(linha[3])  \n",
    "        \n",
    "def close_conn():\n",
    "    c.close()\n",
    "    conn.close()"
   ]
  },
  {
   "cell_type": "code",
   "execution_count": 8,
   "id": "rental-wealth",
   "metadata": {},
   "outputs": [],
   "source": [
    "create_table()"
   ]
  },
  {
   "cell_type": "code",
   "execution_count": 11,
   "id": "lined-throat",
   "metadata": {},
   "outputs": [],
   "source": [
    "data_insert()"
   ]
  },
  {
   "cell_type": "code",
   "execution_count": 14,
   "id": "sealed-workplace",
   "metadata": {},
   "outputs": [],
   "source": [
    "data_insert_var()"
   ]
  },
  {
   "cell_type": "code",
   "execution_count": 16,
   "id": "complex-spread",
   "metadata": {},
   "outputs": [
    {
     "name": "stdout",
     "output_type": "stream",
     "text": [
      "(10, '2021-01-27 14:22:00', 'Teclado', 90.0)\n",
      "(11, '2021-01-28 14:22:00', 'Mouse', 90.0)\n",
      "(12, '2021-01-29 12:29:56.268601', 'Monitor', 86.0)\n"
     ]
    }
   ],
   "source": [
    "leitura_registros()"
   ]
  },
  {
   "cell_type": "code",
   "execution_count": 17,
   "id": "intimate-future",
   "metadata": {},
   "outputs": [
    {
     "name": "stdout",
     "output_type": "stream",
     "text": [
      "(10, '2021-01-27 14:22:00', 'Teclado', 90.0)\n",
      "(11, '2021-01-28 14:22:00', 'Mouse', 90.0)\n",
      "(12, '2021-01-29 12:29:56.268601', 'Monitor', 86.0)\n"
     ]
    }
   ],
   "source": [
    "leitura_todos_dados()"
   ]
  },
  {
   "cell_type": "code",
   "execution_count": 18,
   "id": "strategic-embassy",
   "metadata": {
    "scrolled": true
   },
   "outputs": [
    {
     "name": "stdout",
     "output_type": "stream",
     "text": [
      "90.0\n",
      "90.0\n",
      "86.0\n"
     ]
    }
   ],
   "source": [
    "leitura_colunas()"
   ]
  },
  {
   "cell_type": "code",
   "execution_count": 19,
   "id": "entertaining-worship",
   "metadata": {},
   "outputs": [],
   "source": [
    "close_conn()"
   ]
  },
  {
   "cell_type": "markdown",
   "id": "danish-benjamin",
   "metadata": {},
   "source": [
    "### Update e Delete"
   ]
  },
  {
   "cell_type": "code",
   "execution_count": 22,
   "id": "motivated-wonder",
   "metadata": {},
   "outputs": [],
   "source": [
    "#Atualização de dados\n",
    "def atualiza_dados():\n",
    "    c.execute('UPDATE produtos SET valor = 0 WHERE valor < 90')\n",
    "    conn.commit()"
   ]
  },
  {
   "cell_type": "code",
   "execution_count": 23,
   "id": "about-color",
   "metadata": {},
   "outputs": [],
   "source": [
    "def remove_dados():\n",
    "    c.execute('DELETE FROM produtos WHERE valor = 0')\n",
    "    conn.commit()"
   ]
  },
  {
   "cell_type": "code",
   "execution_count": 28,
   "id": "recognized-honor",
   "metadata": {},
   "outputs": [],
   "source": [
    "atualiza_dados()"
   ]
  },
  {
   "cell_type": "code",
   "execution_count": 29,
   "id": "round-reason",
   "metadata": {
    "scrolled": true
   },
   "outputs": [
    {
     "name": "stdout",
     "output_type": "stream",
     "text": [
      "(10, '2021-01-27 14:22:00', 'Teclado', 90.0)\n",
      "(11, '2021-01-28 14:22:00', 'Mouse', 90.0)\n",
      "(12, '2021-01-29 12:29:56.268601', 'Monitor', 0.0)\n"
     ]
    }
   ],
   "source": [
    "leitura_todos_dados()"
   ]
  },
  {
   "cell_type": "code",
   "execution_count": 30,
   "id": "built-block",
   "metadata": {},
   "outputs": [],
   "source": [
    "remove_dados()"
   ]
  },
  {
   "cell_type": "code",
   "execution_count": 31,
   "id": "clinical-hudson",
   "metadata": {},
   "outputs": [
    {
     "name": "stdout",
     "output_type": "stream",
     "text": [
      "(10, '2021-01-27 14:22:00', 'Teclado', 90.0)\n",
      "(11, '2021-01-28 14:22:00', 'Mouse', 90.0)\n"
     ]
    }
   ],
   "source": [
    "leitura_todos_dados()"
   ]
  }
 ],
 "metadata": {
  "kernelspec": {
   "display_name": "Python 3",
   "language": "python",
   "name": "python3"
  },
  "language_info": {
   "codemirror_mode": {
    "name": "ipython",
    "version": 3
   },
   "file_extension": ".py",
   "mimetype": "text/x-python",
   "name": "python",
   "nbconvert_exporter": "python",
   "pygments_lexer": "ipython3",
   "version": "3.8.5"
  }
 },
 "nbformat": 4,
 "nbformat_minor": 5
}
