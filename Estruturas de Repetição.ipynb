{
 "cells": [
  {
   "cell_type": "markdown",
   "id": "thorough-miracle",
   "metadata": {},
   "source": [
    "# Estruturas de Repetição"
   ]
  },
  {
   "cell_type": "markdown",
   "id": "through-cotton",
   "metadata": {},
   "source": [
    "Loop FOR"
   ]
  },
  {
   "cell_type": "code",
   "execution_count": 1,
   "id": "equal-shield",
   "metadata": {},
   "outputs": [
    {
     "name": "stdout",
     "output_type": "stream",
     "text": [
      "1\n",
      "2\n",
      "3\n"
     ]
    }
   ],
   "source": [
    "#Criando uma tupla e imprimindo o valor da tupla\n",
    "tp = (1,2,3)\n",
    "for i in tp:\n",
    "    print(i)"
   ]
  },
  {
   "cell_type": "code",
   "execution_count": 2,
   "id": "popular-regular",
   "metadata": {},
   "outputs": [
    {
     "name": "stdout",
     "output_type": "stream",
     "text": [
      "Leite\n",
      "Frutas\n",
      "Carne\n"
     ]
    }
   ],
   "source": [
    "#Criando uma lista e imprimindo cada um dos valores\n",
    "ListadoMercado = ['Leite','Frutas','Carne']\n",
    "for i in ListadoMercado:\n",
    "    print(i)"
   ]
  },
  {
   "cell_type": "code",
   "execution_count": 3,
   "id": "emerging-summit",
   "metadata": {},
   "outputs": [
    {
     "name": "stdout",
     "output_type": "stream",
     "text": [
      "0\n",
      "1\n",
      "2\n",
      "3\n",
      "4\n"
     ]
    }
   ],
   "source": [
    "#imprimindo valores no range de 0 a 5\n",
    "for contador in range(0,5):\n",
    "    print(contador)"
   ]
  },
  {
   "cell_type": "code",
   "execution_count": 6,
   "id": "electoral-copper",
   "metadata": {},
   "outputs": [
    {
     "name": "stdout",
     "output_type": "stream",
     "text": [
      "P\n",
      "y\n",
      "t\n",
      "h\n",
      "o\n",
      "n\n"
     ]
    }
   ],
   "source": [
    "#String são sequencias\n",
    "for caractere in 'Python':\n",
    "    print(caractere)"
   ]
  },
  {
   "cell_type": "code",
   "execution_count": 7,
   "id": "dimensional-sussex",
   "metadata": {},
   "outputs": [
    {
     "name": "stdout",
     "output_type": "stream",
     "text": [
      "0\n",
      "2\n",
      "4\n"
     ]
    }
   ],
   "source": [
    "#Listando os numeros no intervalo entre 0 e 101, com incremento em 2:\n",
    "for i in range(0,6,2):\n",
    "    print(i)"
   ]
  },
  {
   "cell_type": "markdown",
   "id": "confused-processing",
   "metadata": {},
   "source": [
    "Loops Alinhados"
   ]
  },
  {
   "cell_type": "code",
   "execution_count": 8,
   "id": "broken-greensboro",
   "metadata": {},
   "outputs": [
    {
     "name": "stdout",
     "output_type": "stream",
     "text": [
      "0\n",
      "1\n",
      "0\n",
      "1\n"
     ]
    }
   ],
   "source": [
    "#Loops alinhados\n",
    "for i in range(0,2):\n",
    "    for a in range(0,2):\n",
    "        print(a)"
   ]
  },
  {
   "cell_type": "code",
   "execution_count": 9,
   "id": "occasional-associate",
   "metadata": {
    "scrolled": true
   },
   "outputs": [
    {
     "name": "stdout",
     "output_type": "stream",
     "text": [
      "25\n"
     ]
    }
   ],
   "source": [
    "#Operando valores de uma lista com loop for\n",
    "listaB = [1,2,3,4,5]\n",
    "soma = 0\n",
    "for i in listaB:\n",
    "    double_i = i+2\n",
    "    soma+=double_i\n",
    "print(soma)"
   ]
  },
  {
   "cell_type": "code",
   "execution_count": 10,
   "id": "exact-martin",
   "metadata": {},
   "outputs": [
    {
     "name": "stdout",
     "output_type": "stream",
     "text": [
      "[1, 2, 3]\n",
      "[10, 15, 14]\n",
      "[10.1, 8.7, 2.3]\n"
     ]
    }
   ],
   "source": [
    "#Loops em listas de listas\n",
    "listas = [[1,2,3],[10,15,14],[10.1,8.7,2.3]]\n",
    "for valor in listas:\n",
    "    print(valor)"
   ]
  },
  {
   "cell_type": "code",
   "execution_count": 11,
   "id": "front-twist",
   "metadata": {},
   "outputs": [
    {
     "name": "stdout",
     "output_type": "stream",
     "text": [
      "3\n"
     ]
    }
   ],
   "source": [
    "#contando numeros de colunas\n",
    "lst = [[1,2,3],[3,4,5],[5,6,7]]\n",
    "primeira_linha = lst[0]\n",
    "count = 0\n",
    "for column in primeira_linha:\n",
    "    count = count + 1\n",
    "print(count)"
   ]
  },
  {
   "cell_type": "code",
   "execution_count": 12,
   "id": "desirable-insulin",
   "metadata": {},
   "outputs": [
    {
     "name": "stdout",
     "output_type": "stream",
     "text": [
      "k1\n",
      "k2\n",
      "k3\n"
     ]
    }
   ],
   "source": [
    "#listando as chaves de um dicionario\n",
    "dict = {'k1':'Python','k2':'R','k3':'Scala'}\n",
    "for item in dict:\n",
    "    print(item)"
   ]
  },
  {
   "cell_type": "code",
   "execution_count": 13,
   "id": "funded-bahamas",
   "metadata": {
    "collapsed": true
   },
   "outputs": [
    {
     "name": "stdout",
     "output_type": "stream",
     "text": [
      "k1 Python\n",
      "k2 R\n",
      "k3 Scala\n"
     ]
    }
   ],
   "source": [
    "#imprimindo chave e valor do dicionario. Usando o método items() para retornar os itens de um dicionario\n",
    "for k,v in dict.items():\n",
    "    print(k,v)"
   ]
  },
  {
   "cell_type": "markdown",
   "id": "impressed-globe",
   "metadata": {},
   "source": [
    "Loop WHILE"
   ]
  },
  {
   "cell_type": "code",
   "execution_count": 14,
   "id": "structural-leave",
   "metadata": {},
   "outputs": [
    {
     "name": "stdout",
     "output_type": "stream",
     "text": [
      "0\n",
      "1\n",
      "2\n",
      "3\n"
     ]
    }
   ],
   "source": [
    "#usando o loop while para imprimir de 0 a 3\n",
    "counter = 0\n",
    "while counter < 4:\n",
    "    print(counter)\n",
    "    counter = counter + 1"
   ]
  },
  {
   "cell_type": "code",
   "execution_count": 16,
   "id": "swedish-funds",
   "metadata": {},
   "outputs": [
    {
     "name": "stdout",
     "output_type": "stream",
     "text": [
      "O numero é:0\n",
      "O numero é:1\n",
      "O numero é:2\n",
      "Loop concluido\n"
     ]
    }
   ],
   "source": [
    "#tambem é possivel utilizar a clausula else para encerrar o loop while\n",
    "x = 0\n",
    "while x < 3:\n",
    "    print('O numero é:%r'%x)\n",
    "    x+=1\n",
    "else:\n",
    "    print('Loop concluido')"
   ]
  },
  {
   "cell_type": "markdown",
   "id": "virtual-covering",
   "metadata": {},
   "source": [
    "Pass, Break, Continue"
   ]
  },
  {
   "cell_type": "code",
   "execution_count": 17,
   "id": "renewable-nothing",
   "metadata": {},
   "outputs": [
    {
     "name": "stdout",
     "output_type": "stream",
     "text": [
      "0\n",
      "1\n",
      "2\n",
      "3\n"
     ]
    }
   ],
   "source": [
    "counter = 0\n",
    "while counter < 10:\n",
    "    if counter == 4:\n",
    "        break\n",
    "    else:\n",
    "        pass\n",
    "    print(counter)\n",
    "    counter = counter + 1\n",
    "    \n"
   ]
  },
  {
   "cell_type": "code",
   "execution_count": 19,
   "id": "proprietary-favor",
   "metadata": {},
   "outputs": [
    {
     "name": "stdout",
     "output_type": "stream",
     "text": [
      "P\n",
      "y\n",
      "t\n",
      "o\n",
      "n\n"
     ]
    }
   ],
   "source": [
    "#continue\n",
    "for verificador in 'Python':\n",
    "    if verificador == 'h':\n",
    "        continue\n",
    "    print(verificador)"
   ]
  },
  {
   "cell_type": "markdown",
   "id": "recovered-armenia",
   "metadata": {},
   "source": [
    "While e For Juntos"
   ]
  },
  {
   "cell_type": "code",
   "execution_count": 22,
   "id": "brilliant-trader",
   "metadata": {},
   "outputs": [
    {
     "name": "stdout",
     "output_type": "stream",
     "text": [
      "2é um valor primo\n",
      "3é um valor primo\n",
      "5é um valor primo\n",
      "7é um valor primo\n",
      "11é um valor primo\n",
      "13é um valor primo\n",
      "17é um valor primo\n",
      "19é um valor primo\n",
      "23é um valor primo\n",
      "29é um valor primo\n"
     ]
    }
   ],
   "source": [
    "for i in range(2,30):\n",
    "    j=2\n",
    "    counter=0\n",
    "    while j<i:\n",
    "        if i%j == 0:\n",
    "            counter = 1\n",
    "            j = j+1\n",
    "        else:\n",
    "            j=j+1\n",
    "    if counter == 0:\n",
    "        print(str(i) + 'é um valor primo')\n",
    "        counter = 0\n",
    "    else:\n",
    "        counter = 0\n",
    "        "
   ]
  },
  {
   "cell_type": "markdown",
   "id": "brutal-disclaimer",
   "metadata": {},
   "source": [
    "Função Range\n",
    "\n",
    "A função range() nos permite criar uma lista de de numeros em um intervalo especifico.\n",
    "\n",
    "range([start],[stop],[step])"
   ]
  },
  {
   "cell_type": "code",
   "execution_count": 23,
   "id": "sunset-traveler",
   "metadata": {},
   "outputs": [
    {
     "name": "stdout",
     "output_type": "stream",
     "text": [
      "2\n",
      "3\n",
      "4\n",
      "5\n"
     ]
    }
   ],
   "source": [
    "for i in range(2,6):\n",
    "    print(i)"
   ]
  },
  {
   "cell_type": "code",
   "execution_count": 24,
   "id": "optical-summary",
   "metadata": {},
   "outputs": [
    {
     "name": "stdout",
     "output_type": "stream",
     "text": [
      "0\n",
      "-2\n",
      "-4\n"
     ]
    }
   ],
   "source": [
    "for i in range (0,-6,-2):\n",
    "    print(i)"
   ]
  },
  {
   "cell_type": "code",
   "execution_count": 25,
   "id": "stunning-construction",
   "metadata": {},
   "outputs": [
    {
     "name": "stdout",
     "output_type": "stream",
     "text": [
      "morango\n",
      "banana\n",
      "maça\n"
     ]
    }
   ],
   "source": [
    "list_1 = ['morango','banana','maça']\n",
    "list_size = len(list_1)\n",
    "for i in range(0,list_size):\n",
    "    print(list_1[i])"
   ]
  },
  {
   "cell_type": "code",
   "execution_count": 26,
   "id": "purple-biology",
   "metadata": {},
   "outputs": [
    {
     "data": {
      "text/plain": [
       "range"
      ]
     },
     "execution_count": 26,
     "metadata": {},
     "output_type": "execute_result"
    }
   ],
   "source": [
    "type(range(0,2))"
   ]
  }
 ],
 "metadata": {
  "kernelspec": {
   "display_name": "Python 3",
   "language": "python",
   "name": "python3"
  },
  "language_info": {
   "codemirror_mode": {
    "name": "ipython",
    "version": 3
   },
   "file_extension": ".py",
   "mimetype": "text/x-python",
   "name": "python",
   "nbconvert_exporter": "python",
   "pygments_lexer": "ipython3",
   "version": "3.8.5"
  }
 },
 "nbformat": 4,
 "nbformat_minor": 5
}
