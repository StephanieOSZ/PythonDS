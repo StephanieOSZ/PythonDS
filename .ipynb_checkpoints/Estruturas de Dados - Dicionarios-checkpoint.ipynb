{
 "cells": [
  {
   "cell_type": "markdown",
   "id": "honest-joining",
   "metadata": {},
   "source": [
    "# Dicionários"
   ]
  },
  {
   "cell_type": "markdown",
   "id": "lasting-minneapolis",
   "metadata": {},
   "source": [
    "Dicionários: Mapeamentos de chaves e valores"
   ]
  },
  {
   "cell_type": "code",
   "execution_count": 4,
   "id": "filled-kingdom",
   "metadata": {},
   "outputs": [],
   "source": [
    "#Isto é uma lista\n",
    "estudantes_list = [\"Mateus\",24,\"Fernanda\",22,\"Tamires\",26,\"Cristiano\",25]"
   ]
  },
  {
   "cell_type": "code",
   "execution_count": 5,
   "id": "different-optics",
   "metadata": {},
   "outputs": [
    {
     "data": {
      "text/plain": [
       "['Mateus', 24, 'Fernanda', 22, 'Tamires', 26, 'Cristiano', 25]"
      ]
     },
     "execution_count": 5,
     "metadata": {},
     "output_type": "execute_result"
    }
   ],
   "source": [
    "estudantes_list"
   ]
  },
  {
   "cell_type": "code",
   "execution_count": 6,
   "id": "selected-arctic",
   "metadata": {},
   "outputs": [],
   "source": [
    "#Isto é um dicionário\n",
    "estudantes_dict = {\"Mateus\":24,\"Fernanda\":22,\"Tamires\":26,\"Cristiano\":25}"
   ]
  },
  {
   "cell_type": "code",
   "execution_count": 7,
   "id": "intermediate-illness",
   "metadata": {},
   "outputs": [
    {
     "data": {
      "text/plain": [
       "{'Mateus': 24, 'Fernanda': 22, 'Tamires': 26, 'Cristiano': 25}"
      ]
     },
     "execution_count": 7,
     "metadata": {},
     "output_type": "execute_result"
    }
   ],
   "source": [
    "estudantes_dict"
   ]
  },
  {
   "cell_type": "code",
   "execution_count": 9,
   "id": "modified-decrease",
   "metadata": {},
   "outputs": [
    {
     "data": {
      "text/plain": [
       "24"
      ]
     },
     "execution_count": 9,
     "metadata": {},
     "output_type": "execute_result"
    }
   ],
   "source": [
    "estudantes_dict[\"Mateus\"]"
   ]
  },
  {
   "cell_type": "code",
   "execution_count": 10,
   "id": "associate-gamma",
   "metadata": {},
   "outputs": [],
   "source": [
    "estudantes_dict[\"Pedro\"] = 23"
   ]
  },
  {
   "cell_type": "code",
   "execution_count": 11,
   "id": "primary-norfolk",
   "metadata": {},
   "outputs": [
    {
     "data": {
      "text/plain": [
       "{'Mateus': 24, 'Fernanda': 22, 'Tamires': 26, 'Cristiano': 25, 'Pedro': 23}"
      ]
     },
     "execution_count": 11,
     "metadata": {},
     "output_type": "execute_result"
    }
   ],
   "source": [
    "estudantes_dict"
   ]
  },
  {
   "cell_type": "code",
   "execution_count": 12,
   "id": "advised-patrol",
   "metadata": {},
   "outputs": [],
   "source": [
    "#limpar dicionario\n",
    "estudantes_dict.clear()"
   ]
  },
  {
   "cell_type": "code",
   "execution_count": 13,
   "id": "theoretical-harvest",
   "metadata": {},
   "outputs": [
    {
     "data": {
      "text/plain": [
       "{}"
      ]
     },
     "execution_count": 13,
     "metadata": {},
     "output_type": "execute_result"
    }
   ],
   "source": [
    "estudantes_dict"
   ]
  },
  {
   "cell_type": "code",
   "execution_count": 14,
   "id": "liked-bandwidth",
   "metadata": {},
   "outputs": [],
   "source": [
    "#deletar o dicionario\n",
    "del estudantes_dict"
   ]
  },
  {
   "cell_type": "code",
   "execution_count": 17,
   "id": "dirty-shopping",
   "metadata": {},
   "outputs": [],
   "source": [
    "estudantes = {\"Mateus\":24,\"Fernanda\":22,\"Tamires\":26,\"Cristiano\":25}"
   ]
  },
  {
   "cell_type": "code",
   "execution_count": 18,
   "id": "postal-regard",
   "metadata": {},
   "outputs": [
    {
     "data": {
      "text/plain": [
       "4"
      ]
     },
     "execution_count": 18,
     "metadata": {},
     "output_type": "execute_result"
    }
   ],
   "source": [
    "len(estudantes)"
   ]
  },
  {
   "cell_type": "code",
   "execution_count": 19,
   "id": "forty-composite",
   "metadata": {},
   "outputs": [
    {
     "data": {
      "text/plain": [
       "dict_keys(['Mateus', 'Fernanda', 'Tamires', 'Cristiano'])"
      ]
     },
     "execution_count": 19,
     "metadata": {},
     "output_type": "execute_result"
    }
   ],
   "source": [
    "estudantes.keys()"
   ]
  },
  {
   "cell_type": "code",
   "execution_count": 21,
   "id": "stylish-thought",
   "metadata": {},
   "outputs": [
    {
     "data": {
      "text/plain": [
       "dict_values([24, 22, 26, 25])"
      ]
     },
     "execution_count": 21,
     "metadata": {},
     "output_type": "execute_result"
    }
   ],
   "source": [
    "estudantes.values()"
   ]
  },
  {
   "cell_type": "code",
   "execution_count": 22,
   "id": "lyric-tradition",
   "metadata": {},
   "outputs": [
    {
     "data": {
      "text/plain": [
       "dict_items([('Mateus', 24), ('Fernanda', 22), ('Tamires', 26), ('Cristiano', 25)])"
      ]
     },
     "execution_count": 22,
     "metadata": {},
     "output_type": "execute_result"
    }
   ],
   "source": [
    "estudantes.items()"
   ]
  },
  {
   "cell_type": "code",
   "execution_count": 23,
   "id": "convinced-projection",
   "metadata": {},
   "outputs": [],
   "source": [
    "estudantes2 = {\"Maria\":27,\"Erika\":28,\"Milton\":26}"
   ]
  },
  {
   "cell_type": "code",
   "execution_count": 24,
   "id": "diverse-emperor",
   "metadata": {},
   "outputs": [
    {
     "data": {
      "text/plain": [
       "{'Maria': 27, 'Erika': 28, 'Milton': 26}"
      ]
     },
     "execution_count": 24,
     "metadata": {},
     "output_type": "execute_result"
    }
   ],
   "source": [
    "estudantes2"
   ]
  },
  {
   "cell_type": "code",
   "execution_count": 25,
   "id": "modular-convertible",
   "metadata": {},
   "outputs": [],
   "source": [
    "#concatenação entre dicionarios\n",
    "estudantes.update(estudantes2)"
   ]
  },
  {
   "cell_type": "code",
   "execution_count": 26,
   "id": "valued-track",
   "metadata": {},
   "outputs": [
    {
     "data": {
      "text/plain": [
       "{'Mateus': 24,\n",
       " 'Fernanda': 22,\n",
       " 'Tamires': 26,\n",
       " 'Cristiano': 25,\n",
       " 'Maria': 27,\n",
       " 'Erika': 28,\n",
       " 'Milton': 26}"
      ]
     },
     "execution_count": 26,
     "metadata": {},
     "output_type": "execute_result"
    }
   ],
   "source": [
    "estudantes"
   ]
  },
  {
   "cell_type": "code",
   "execution_count": 27,
   "id": "joined-coordinate",
   "metadata": {},
   "outputs": [],
   "source": [
    "#dicionario vazio\n",
    "d = {}"
   ]
  },
  {
   "cell_type": "code",
   "execution_count": 28,
   "id": "laden-smooth",
   "metadata": {},
   "outputs": [
    {
     "data": {
      "text/plain": [
       "{}"
      ]
     },
     "execution_count": 28,
     "metadata": {},
     "output_type": "execute_result"
    }
   ],
   "source": [
    "d"
   ]
  },
  {
   "cell_type": "code",
   "execution_count": 29,
   "id": "cross-referral",
   "metadata": {},
   "outputs": [],
   "source": [
    "d['key_one'] = 2"
   ]
  },
  {
   "cell_type": "code",
   "execution_count": 30,
   "id": "executed-kelly",
   "metadata": {},
   "outputs": [
    {
     "data": {
      "text/plain": [
       "{'key_one': 2}"
      ]
     },
     "execution_count": 30,
     "metadata": {},
     "output_type": "execute_result"
    }
   ],
   "source": [
    "d"
   ]
  },
  {
   "cell_type": "code",
   "execution_count": 31,
   "id": "cardiovascular-winter",
   "metadata": {},
   "outputs": [],
   "source": [
    "d[10] = 'teste'"
   ]
  },
  {
   "cell_type": "code",
   "execution_count": 32,
   "id": "humanitarian-floor",
   "metadata": {},
   "outputs": [
    {
     "data": {
      "text/plain": [
       "{'key_one': 2, 10: 'teste'}"
      ]
     },
     "execution_count": 32,
     "metadata": {},
     "output_type": "execute_result"
    }
   ],
   "source": [
    "d"
   ]
  },
  {
   "cell_type": "code",
   "execution_count": 33,
   "id": "falling-supervisor",
   "metadata": {},
   "outputs": [],
   "source": [
    "d[8.1] = 'teste2'"
   ]
  },
  {
   "cell_type": "code",
   "execution_count": 34,
   "id": "manufactured-speech",
   "metadata": {},
   "outputs": [
    {
     "data": {
      "text/plain": [
       "{'key_one': 2, 10: 'teste', 8.1: 'teste2'}"
      ]
     },
     "execution_count": 34,
     "metadata": {},
     "output_type": "execute_result"
    }
   ],
   "source": [
    "d"
   ]
  },
  {
   "cell_type": "code",
   "execution_count": 35,
   "id": "smaller-sport",
   "metadata": {},
   "outputs": [],
   "source": [
    "#dicionario de listas\n",
    "dict3 = {'key1':123,'key2':[12,14,16],'key3':['banana','maça','batata']}"
   ]
  },
  {
   "cell_type": "code",
   "execution_count": 36,
   "id": "athletic-desktop",
   "metadata": {},
   "outputs": [
    {
     "name": "stdout",
     "output_type": "stream",
     "text": [
      "{'key1': 123, 'key2': [12, 14, 16], 'key3': ['banana', 'maça', 'batata']}\n"
     ]
    }
   ],
   "source": [
    "print(dict3)"
   ]
  },
  {
   "cell_type": "code",
   "execution_count": 37,
   "id": "afraid-draft",
   "metadata": {},
   "outputs": [
    {
     "data": {
      "text/plain": [
       "[12, 14, 16]"
      ]
     },
     "execution_count": 37,
     "metadata": {},
     "output_type": "execute_result"
    }
   ],
   "source": [
    "dict3['key2']"
   ]
  },
  {
   "cell_type": "code",
   "execution_count": 38,
   "id": "controlling-communications",
   "metadata": {},
   "outputs": [
    {
     "data": {
      "text/plain": [
       "'BANANA'"
      ]
     },
     "execution_count": 38,
     "metadata": {},
     "output_type": "execute_result"
    }
   ],
   "source": [
    "#acessando um item de uma lista, dentro de um dicionário\n",
    "dict3['key3'][0].upper()"
   ]
  },
  {
   "cell_type": "code",
   "execution_count": 39,
   "id": "northern-switzerland",
   "metadata": {},
   "outputs": [],
   "source": [
    "#operações com itens da lista, dentro do dicionario\n",
    "var1 = dict3['key2'][0] - 2"
   ]
  },
  {
   "cell_type": "code",
   "execution_count": 41,
   "id": "rough-resident",
   "metadata": {},
   "outputs": [
    {
     "data": {
      "text/plain": [
       "10"
      ]
     },
     "execution_count": 41,
     "metadata": {},
     "output_type": "execute_result"
    }
   ],
   "source": [
    "var1"
   ]
  },
  {
   "cell_type": "code",
   "execution_count": 43,
   "id": "universal-messaging",
   "metadata": {},
   "outputs": [],
   "source": [
    "#duas operações no mesmo comando, para atualizar um item dentro da lista\n",
    "dict3['key2'][0] -= 2"
   ]
  },
  {
   "cell_type": "code",
   "execution_count": 45,
   "id": "separate-northwest",
   "metadata": {},
   "outputs": [
    {
     "data": {
      "text/plain": [
       "10"
      ]
     },
     "execution_count": 45,
     "metadata": {},
     "output_type": "execute_result"
    }
   ],
   "source": [
    "dict3['key2'][0]"
   ]
  },
  {
   "cell_type": "markdown",
   "id": "forced-country",
   "metadata": {},
   "source": [
    "Dicionarios Aninhados"
   ]
  },
  {
   "cell_type": "code",
   "execution_count": 49,
   "id": "alive-covering",
   "metadata": {},
   "outputs": [],
   "source": [
    "#Criando dicionários aninhados\n",
    "dict_aninhado = {'key1':{'key1_an':{'key2_an':'Dict aninhado em python'}}}"
   ]
  },
  {
   "cell_type": "code",
   "execution_count": 50,
   "id": "three-adoption",
   "metadata": {},
   "outputs": [
    {
     "data": {
      "text/plain": [
       "{'key1': {'key1_an': {'key2_an': 'Dict aninhado em python'}}}"
      ]
     },
     "execution_count": 50,
     "metadata": {},
     "output_type": "execute_result"
    }
   ],
   "source": [
    "dict_aninhado"
   ]
  },
  {
   "cell_type": "code",
   "execution_count": 56,
   "id": "removed-judges",
   "metadata": {},
   "outputs": [
    {
     "data": {
      "text/plain": [
       "'Dict aninhado em python'"
      ]
     },
     "execution_count": 56,
     "metadata": {},
     "output_type": "execute_result"
    }
   ],
   "source": [
    "dict_aninhado['key1']['key1_an']['key2_an']"
   ]
  }
 ],
 "metadata": {
  "kernelspec": {
   "display_name": "Python 3",
   "language": "python",
   "name": "python3"
  },
  "language_info": {
   "codemirror_mode": {
    "name": "ipython",
    "version": 3
   },
   "file_extension": ".py",
   "mimetype": "text/x-python",
   "name": "python",
   "nbconvert_exporter": "python",
   "pygments_lexer": "ipython3",
   "version": "3.8.5"
  }
 },
 "nbformat": 4,
 "nbformat_minor": 5
}
