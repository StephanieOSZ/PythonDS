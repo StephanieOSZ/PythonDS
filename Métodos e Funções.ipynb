{
 "cells": [
  {
   "cell_type": "markdown",
   "id": "presidential-hybrid",
   "metadata": {},
   "source": [
    "# Métodos e Funções"
   ]
  },
  {
   "cell_type": "markdown",
   "id": "compound-fashion",
   "metadata": {},
   "source": [
    "Métodos\n",
    "\n",
    "objeto.metodo(argumento)"
   ]
  },
  {
   "cell_type": "code",
   "execution_count": 2,
   "id": "prostate-quarter",
   "metadata": {},
   "outputs": [],
   "source": [
    "#Criando uma lista\n",
    "lst = [1,2,3,4,5,6]"
   ]
  },
  {
   "cell_type": "code",
   "execution_count": 3,
   "id": "adverse-integral",
   "metadata": {},
   "outputs": [
    {
     "data": {
      "text/plain": [
       "[1, 2, 3, 4, 5, 6]"
      ]
     },
     "execution_count": 3,
     "metadata": {},
     "output_type": "execute_result"
    }
   ],
   "source": [
    "#imprimindo a lista\n",
    "lst"
   ]
  },
  {
   "cell_type": "code",
   "execution_count": 5,
   "id": "starting-signature",
   "metadata": {},
   "outputs": [
    {
     "data": {
      "text/plain": [
       "0"
      ]
     },
     "execution_count": 5,
     "metadata": {},
     "output_type": "execute_result"
    }
   ],
   "source": [
    "lst.count(10)"
   ]
  },
  {
   "cell_type": "code",
   "execution_count": 6,
   "id": "cleared-penny",
   "metadata": {},
   "outputs": [
    {
     "name": "stdout",
     "output_type": "stream",
     "text": [
      "Help on built-in function count:\n",
      "\n",
      "count(value, /) method of builtins.list instance\n",
      "    Return number of occurrences of value.\n",
      "\n"
     ]
    }
   ],
   "source": [
    "# A função help explica como usar cada método de um objeto\n",
    "help(lst.count)"
   ]
  },
  {
   "cell_type": "code",
   "execution_count": 7,
   "id": "reserved-malaysia",
   "metadata": {},
   "outputs": [
    {
     "data": {
      "text/plain": [
       "['__add__',\n",
       " '__class__',\n",
       " '__contains__',\n",
       " '__delattr__',\n",
       " '__delitem__',\n",
       " '__dir__',\n",
       " '__doc__',\n",
       " '__eq__',\n",
       " '__format__',\n",
       " '__ge__',\n",
       " '__getattribute__',\n",
       " '__getitem__',\n",
       " '__gt__',\n",
       " '__hash__',\n",
       " '__iadd__',\n",
       " '__imul__',\n",
       " '__init__',\n",
       " '__init_subclass__',\n",
       " '__iter__',\n",
       " '__le__',\n",
       " '__len__',\n",
       " '__lt__',\n",
       " '__mul__',\n",
       " '__ne__',\n",
       " '__new__',\n",
       " '__reduce__',\n",
       " '__reduce_ex__',\n",
       " '__repr__',\n",
       " '__reversed__',\n",
       " '__rmul__',\n",
       " '__setattr__',\n",
       " '__setitem__',\n",
       " '__sizeof__',\n",
       " '__str__',\n",
       " '__subclasshook__',\n",
       " 'append',\n",
       " 'clear',\n",
       " 'copy',\n",
       " 'count',\n",
       " 'extend',\n",
       " 'index',\n",
       " 'insert',\n",
       " 'pop',\n",
       " 'remove',\n",
       " 'reverse',\n",
       " 'sort']"
      ]
     },
     "execution_count": 7,
     "metadata": {},
     "output_type": "execute_result"
    }
   ],
   "source": [
    "# a função dir() mostra todos os metodos e atributos de um objeto\n",
    "dir(lst)"
   ]
  },
  {
   "cell_type": "code",
   "execution_count": 8,
   "id": "miniature-deadline",
   "metadata": {},
   "outputs": [
    {
     "name": "stdout",
     "output_type": "stream",
     "text": [
      "0\n"
     ]
    }
   ],
   "source": [
    "#o metodo de um objeto pode ser chamado dentro de uma função exemplo print()\n",
    "print(lst.count(0))"
   ]
  },
  {
   "cell_type": "markdown",
   "id": "broke-release",
   "metadata": {},
   "source": [
    "Funções"
   ]
  },
  {
   "cell_type": "markdown",
   "id": "structured-sword",
   "metadata": {},
   "source": [
    "Variaveis Locais e Globais"
   ]
  },
  {
   "cell_type": "code",
   "execution_count": 9,
   "id": "compatible-shuttle",
   "metadata": {},
   "outputs": [],
   "source": [
    "#variavel global\n",
    "var_global = 10\n",
    "\n",
    "def multiply(num1,num2):\n",
    "    var_global = num1 * num2 #variavel local\n",
    "    print(var_global)"
   ]
  },
  {
   "cell_type": "code",
   "execution_count": 11,
   "id": "promising-court",
   "metadata": {},
   "outputs": [
    {
     "name": "stdout",
     "output_type": "stream",
     "text": [
      "15\n"
     ]
    }
   ],
   "source": [
    "multiply(5,3)"
   ]
  },
  {
   "cell_type": "code",
   "execution_count": 12,
   "id": "prescribed-jesus",
   "metadata": {},
   "outputs": [
    {
     "data": {
      "text/plain": [
       "10"
      ]
     },
     "execution_count": 12,
     "metadata": {},
     "output_type": "execute_result"
    }
   ],
   "source": [
    "var_global"
   ]
  },
  {
   "cell_type": "markdown",
   "id": "periodic-sleeping",
   "metadata": {},
   "source": [
    "Algumas Funções Mais Utilizadas"
   ]
  },
  {
   "cell_type": "code",
   "execution_count": 13,
   "id": "cheap-limitation",
   "metadata": {},
   "outputs": [],
   "source": [
    "array = ['a','b','c','d']"
   ]
  },
  {
   "cell_type": "code",
   "execution_count": 14,
   "id": "acting-girlfriend",
   "metadata": {},
   "outputs": [
    {
     "data": {
      "text/plain": [
       "'d'"
      ]
     },
     "execution_count": 14,
     "metadata": {},
     "output_type": "execute_result"
    }
   ],
   "source": [
    "max(array)"
   ]
  },
  {
   "cell_type": "code",
   "execution_count": 15,
   "id": "biblical-course",
   "metadata": {},
   "outputs": [
    {
     "data": {
      "text/plain": [
       "'a'"
      ]
     },
     "execution_count": 15,
     "metadata": {},
     "output_type": "execute_result"
    }
   ],
   "source": [
    "min(array)"
   ]
  },
  {
   "cell_type": "code",
   "execution_count": 16,
   "id": "circular-chapter",
   "metadata": {},
   "outputs": [],
   "source": [
    "new_list = [1,2,3,4,5]"
   ]
  },
  {
   "cell_type": "code",
   "execution_count": 17,
   "id": "virgin-abortion",
   "metadata": {},
   "outputs": [
    {
     "data": {
      "text/plain": [
       "15"
      ]
     },
     "execution_count": 17,
     "metadata": {},
     "output_type": "execute_result"
    }
   ],
   "source": [
    "sum(new_list)"
   ]
  },
  {
   "cell_type": "markdown",
   "id": "bound-concentration",
   "metadata": {},
   "source": [
    "Criando funções utilizando outras funções"
   ]
  },
  {
   "cell_type": "code",
   "execution_count": 20,
   "id": "productive-pizza",
   "metadata": {},
   "outputs": [],
   "source": [
    "import math\n",
    "\n",
    "def numeroPrimo(num):\n",
    "    #verificando se é numero primo\n",
    "    if (num%2) == 0 and num > 2:\n",
    "        return 'não é primo'\n",
    "    for i in range(3,int(math.sqrt(num)+1),2):\n",
    "        if (num%i) == 0:\n",
    "            return 'não é primo'\n",
    "    return 'primo!'"
   ]
  },
  {
   "cell_type": "code",
   "execution_count": 24,
   "id": "canadian-imaging",
   "metadata": {},
   "outputs": [
    {
     "data": {
      "text/plain": [
       "'primo!'"
      ]
     },
     "execution_count": 24,
     "metadata": {},
     "output_type": "execute_result"
    }
   ],
   "source": [
    "numeroPrimo(37)"
   ]
  },
  {
   "cell_type": "code",
   "execution_count": 31,
   "id": "derived-chain",
   "metadata": {},
   "outputs": [],
   "source": [
    "#função com numero variavel de parametros\n",
    "def printVarPar(args,*vartpl):\n",
    "    print('o valor passado foi: '+str(args))\n",
    "    \n",
    "    for i in vartpl:\n",
    "        print('O parametro passado foi: '+i)\n",
    "    return;"
   ]
  },
  {
   "cell_type": "code",
   "execution_count": 32,
   "id": "elect-database",
   "metadata": {},
   "outputs": [
    {
     "name": "stdout",
     "output_type": "stream",
     "text": [
      "o valor passado foi: 10\n"
     ]
    }
   ],
   "source": [
    "printVarPar(10)"
   ]
  },
  {
   "cell_type": "code",
   "execution_count": 33,
   "id": "thermal-electronics",
   "metadata": {},
   "outputs": [
    {
     "name": "stdout",
     "output_type": "stream",
     "text": [
      "o valor passado foi: Chocolate\n",
      "O parametro passado foi: Menta\n",
      "O parametro passado foi: Banana\n"
     ]
    }
   ],
   "source": [
    "printVarPar('Chocolate','Menta','Banana')"
   ]
  },
  {
   "cell_type": "markdown",
   "id": "relative-liability",
   "metadata": {},
   "source": [
    "Expressões Lambda"
   ]
  },
  {
   "cell_type": "markdown",
   "id": "polar-artist",
   "metadata": {},
   "source": [
    "Funções anonimas, sem a necessidade def reservada, com uma unica expressão.\n",
    "\n",
    "Podem ser chamadas de funções inline ou funções anonimas\n",
    "\n",
    "São uteis usadas com as funções map(), filter(), reduce()"
   ]
  },
  {
   "cell_type": "code",
   "execution_count": 34,
   "id": "acquired-respondent",
   "metadata": {},
   "outputs": [
    {
     "data": {
      "text/plain": [
       "25"
      ]
     },
     "execution_count": 34,
     "metadata": {},
     "output_type": "execute_result"
    }
   ],
   "source": [
    "potencia = lambda x:x**2\n",
    "potencia(5)"
   ]
  },
  {
   "cell_type": "code",
   "execution_count": 35,
   "id": "intelligent-identifier",
   "metadata": {},
   "outputs": [
    {
     "data": {
      "text/plain": [
       "True"
      ]
     },
     "execution_count": 35,
     "metadata": {},
     "output_type": "execute_result"
    }
   ],
   "source": [
    "par = lambda x:x%2==0\n",
    "par(2)"
   ]
  },
  {
   "cell_type": "code",
   "execution_count": 36,
   "id": "chubby-electron",
   "metadata": {},
   "outputs": [
    {
     "data": {
      "text/plain": [
       "False"
      ]
     },
     "execution_count": 36,
     "metadata": {},
     "output_type": "execute_result"
    }
   ],
   "source": [
    "par(3)"
   ]
  },
  {
   "cell_type": "code",
   "execution_count": 37,
   "id": "shared-tobago",
   "metadata": {},
   "outputs": [
    {
     "data": {
      "text/plain": [
       "'t'"
      ]
     },
     "execution_count": 37,
     "metadata": {},
     "output_type": "execute_result"
    }
   ],
   "source": [
    "first = lambda f:f[0]\n",
    "first('texto')"
   ]
  },
  {
   "cell_type": "code",
   "execution_count": 38,
   "id": "scenic-reference",
   "metadata": {},
   "outputs": [
    {
     "data": {
      "text/plain": [
       "5"
      ]
     },
     "execution_count": 38,
     "metadata": {},
     "output_type": "execute_result"
    }
   ],
   "source": [
    "sumNum = lambda x,y:x+y\n",
    "sumNum(2,3)"
   ]
  },
  {
   "cell_type": "code",
   "execution_count": 39,
   "id": "outside-midnight",
   "metadata": {},
   "outputs": [
    {
     "data": {
      "text/plain": [
       "'oatxet'"
      ]
     },
     "execution_count": 39,
     "metadata": {},
     "output_type": "execute_result"
    }
   ],
   "source": [
    "reversao = lambda t:t[::-1]\n",
    "reversao('textao')"
   ]
  }
 ],
 "metadata": {
  "kernelspec": {
   "display_name": "Python 3",
   "language": "python",
   "name": "python3"
  },
  "language_info": {
   "codemirror_mode": {
    "name": "ipython",
    "version": 3
   },
   "file_extension": ".py",
   "mimetype": "text/x-python",
   "name": "python",
   "nbconvert_exporter": "python",
   "pygments_lexer": "ipython3",
   "version": "3.8.5"
  }
 },
 "nbformat": 4,
 "nbformat_minor": 5
}
